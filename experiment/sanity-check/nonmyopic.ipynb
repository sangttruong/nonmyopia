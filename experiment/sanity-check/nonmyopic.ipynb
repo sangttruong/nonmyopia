{
 "cells": [
  {
   "cell_type": "markdown",
   "metadata": {
    "id": "iN8u71NULZqc"
   },
   "source": [
    "# Util"
   ]
  },
  {
   "cell_type": "code",
   "execution_count": 22,
   "metadata": {
    "cellView": "form",
    "id": "GeIQs5d-WzeG"
   },
   "outputs": [],
   "source": [
    "# @title Utils\n",
    "test = False\n",
    "\n",
    "try:\n",
    "    import gpytorch\n",
    "except:\n",
    "    !pip install gpytorch\n",
    "try:\n",
    "    import botorch\n",
    "except:\n",
    "    !pip install botorch\n",
    "\n",
    "import torch\n",
    "import torch.optim as optim\n",
    "from torch.optim import SGD\n",
    "from tqdm import tqdm\n",
    "import math\n",
    "from math import exp\n",
    "import itertools\n",
    "\n",
    "import numpy as np\n",
    "\n",
    "np.random.seed(1)\n",
    "\n",
    "from matplotlib import cm\n",
    "from matplotlib import pyplot as plt\n",
    "\n",
    "import botorch\n",
    "import gpytorch\n",
    "from gpytorch.constraints import GreaterThan\n",
    "from gpytorch.mlls import ExactMarginalLogLikelihood\n",
    "from botorch.sampling.normal import SobolQMCNormalSampler\n",
    "from botorch import settings\n",
    "\n",
    "\n",
    "def ground_truth(draw=False, n_dim=1, draw_3D=False, alpha=1, ls=math.sqrt(0.05)):\n",
    "    if n_dim == 1:\n",
    "        xs = np.linspace(0, 1, 1000)[:, None]\n",
    "        mean = np.zeros(xs.shape[0])\n",
    "        cov = kern_exp_quad_noard(xs, xs, alpha=alpha, ls=ls)\n",
    "\n",
    "        np.random.seed(24)\n",
    "        ys = sample_mvn(mean, cov, 1).squeeze()\n",
    "        if draw:\n",
    "            plt.plot(xs, ys, color=\"blue\", alpha=0.1)\n",
    "        return xs, ys\n",
    "\n",
    "    elif n_dim == 2:\n",
    "        grid = 20j\n",
    "        xs = np.mgrid[0:1:grid, 0:1:grid].reshape(2, -1).T\n",
    "        mean = np.zeros(xs.shape[0])\n",
    "        cov = kern_exp_quad_noard(xs, xs, alpha=alpha, ls=ls)\n",
    "\n",
    "        np.random.seed(5)\n",
    "        ys = sample_mvn(mean, cov, 1).squeeze()\n",
    "\n",
    "        if draw:\n",
    "            xpts = np.linspace(0, 1, int(abs(grid)))\n",
    "            ypts = np.linspace(0, 1, int(abs(grid)))\n",
    "            X, Y = np.meshgrid(xpts, ypts)\n",
    "            resol = int(abs(grid))\n",
    "            Z = ys.reshape(resol, resol).T\n",
    "\n",
    "            if draw_3D:\n",
    "                fig, ax = plt.subplots(figsize=(7, 7), subplot_kw={\"projection\": \"3d\"})\n",
    "                cf = ax.plot_surface(\n",
    "                    X, Y, Z, cmap=cm.coolwarm, linewidth=0, antialiased=False\n",
    "                )\n",
    "                cbar = plt.colorbar(cf, fraction=0.046, pad=0.04)\n",
    "\n",
    "            plt.figure(figsize=(7, 7))\n",
    "            cf = plt.contourf(X, Y, Z, 40, cmap=cm.coolwarm, zorder=0)\n",
    "            cbar = plt.colorbar(cf, fraction=0.046, pad=0.04)\n",
    "\n",
    "        return xs, ys\n",
    "\n",
    "    else:\n",
    "        raise\n",
    "\n",
    "\n",
    "def p_loss(x):\n",
    "    return torch.maximum(torch.abs(x - 0.5) - 0.5, torch.tensor([0]))\n",
    "\n",
    "\n",
    "if test:\n",
    "    j = 2\n",
    "    n_dim = 2\n",
    "    alpha = 1\n",
    "    ls = math.sqrt(0.05)\n",
    "    xs, ys = ground_truth(draw=True, n_dim=n_dim, alpha=alpha, ls=ls)\n",
    "    plt.show()\n",
    "    xs_new0 = xs[j, :][None, :]\n",
    "    ys_new0, _ = gp_post(xs, ys, xs_new0, alpha=alpha, ls=ls)\n",
    "    print(\"diff: \", ys_new0.item() - ys[j].item())"
   ]
  },
  {
   "cell_type": "code",
   "execution_count": 23,
   "metadata": {
    "cellView": "form",
    "id": "l8_WSd62RInC"
   },
   "outputs": [],
   "source": [
    "# @title SingleTaskGP\n",
    "\n",
    "#!/usr/bin/env python3\n",
    "# Copyright (c) Meta Platforms, Inc. and affiliates.\n",
    "#\n",
    "# This source code is licensed under the MIT license found in the\n",
    "# LICENSE file in the root directory of this source tree.\n",
    "\n",
    "r\"\"\"\n",
    "Gaussian Process Regression models based on GPyTorch models.\n",
    "\n",
    "These models are often a good starting point and are further documented in the\n",
    "tutorials.\n",
    "\n",
    "`SingleTaskGP`, `FixedNoiseGP`, and `HeteroskedasticSingleTaskGP` are all\n",
    "single-task exact GP models, differing in how they treat noise. They use\n",
    "relatively strong priors on the Kernel hyperparameters, which work best when\n",
    "covariates are normalized to the unit cube and outcomes are standardized (zero\n",
    "mean, unit variance).\n",
    "\n",
    "These models all work in batch mode (each batch having its own hyperparameters).\n",
    "When the training observations include multiple outputs, these models use\n",
    "batching to model outputs independently.\n",
    "\n",
    "These models all support multiple outputs. However, as single-task models,\n",
    "`SingleTaskGP`, `FixedNoiseGP`, and `HeteroskedasticSingleTaskGP` should be\n",
    "used only when the outputs are independent and all use the same training data.\n",
    "If outputs are independent and outputs have different training data, use the\n",
    "`ModelListGP`. When modeling correlations between outputs, use a multi-task\n",
    "model like `MultiTaskGP`.\n",
    "\"\"\"\n",
    "\n",
    "from __future__ import annotations\n",
    "\n",
    "from typing import Any, List, Optional, Union\n",
    "\n",
    "import torch\n",
    "from botorch import settings\n",
    "from botorch.models.gpytorch import BatchedMultiOutputGPyTorchModel\n",
    "from botorch.models.transforms.input import InputTransform\n",
    "from botorch.models.transforms.outcome import Log, OutcomeTransform\n",
    "from botorch.models.utils import fantasize as fantasize_flag, validate_input_scaling\n",
    "from botorch.sampling.base import MCSampler\n",
    "from gpytorch.constraints.constraints import GreaterThan\n",
    "from gpytorch.distributions.multivariate_normal import MultivariateNormal\n",
    "from gpytorch.kernels.matern_kernel import MaternKernel\n",
    "from gpytorch.kernels.scale_kernel import ScaleKernel\n",
    "from gpytorch.kernels import RBFKernel\n",
    "from gpytorch.likelihoods.gaussian_likelihood import (\n",
    "    _GaussianLikelihoodBase,\n",
    "    FixedNoiseGaussianLikelihood,\n",
    "    GaussianLikelihood,\n",
    ")\n",
    "from gpytorch.likelihoods.likelihood import Likelihood\n",
    "from gpytorch.likelihoods.noise_models import HeteroskedasticNoise\n",
    "from gpytorch.means.constant_mean import ConstantMean\n",
    "from gpytorch.means.mean import Mean\n",
    "from gpytorch.mlls.noise_model_added_loss_term import NoiseModelAddedLossTerm\n",
    "from gpytorch.models.exact_gp import ExactGP\n",
    "from gpytorch.module import Module\n",
    "from gpytorch.priors.smoothed_box_prior import SmoothedBoxPrior\n",
    "from gpytorch.priors.torch_priors import GammaPrior\n",
    "from torch import Tensor\n",
    "\n",
    "\n",
    "MIN_INFERRED_NOISE_LEVEL = 1e-4\n",
    "\n",
    "\n",
    "class SingleTaskGP(BatchedMultiOutputGPyTorchModel, ExactGP):\n",
    "    r\"\"\"A single-task exact GP model.\n",
    "\n",
    "    A single-task exact GP using relatively strong priors on the Kernel\n",
    "    hyperparameters, which work best when covariates are normalized to the unit\n",
    "    cube and outcomes are standardized (zero mean, unit variance).\n",
    "\n",
    "    This model works in batch mode (each batch having its own hyperparameters).\n",
    "    When the training observations include multiple outputs, this model will use\n",
    "    batching to model outputs independently.\n",
    "\n",
    "    Use this model when you have independent output(s) and all outputs use the\n",
    "    same training data. If outputs are independent and outputs have different\n",
    "    training data, use the ModelListGP. When modeling correlations between\n",
    "    outputs, use the MultiTaskGP.\n",
    "\n",
    "    Example:\n",
    "        >>> train_X = torch.rand(20, 2)\n",
    "        >>> train_Y = torch.sin(train_X).sum(dim=1, keepdim=True)\n",
    "        >>> model = SingleTaskGP(train_X, train_Y)\n",
    "    \"\"\"\n",
    "\n",
    "    def __init__(\n",
    "        self,\n",
    "        train_X: Tensor,\n",
    "        train_Y: Tensor,\n",
    "        likelihood: Optional[Likelihood] = None,\n",
    "        covar_module: Optional[Module] = None,\n",
    "        mean_module: Optional[Mean] = None,\n",
    "        outcome_transform: Optional[OutcomeTransform] = None,\n",
    "        input_transform: Optional[InputTransform] = None,\n",
    "    ) -> None:\n",
    "        r\"\"\"\n",
    "        Args:\n",
    "            train_X: A `batch_shape x n x d` tensor of training features.\n",
    "            train_Y: A `batch_shape x n x m` tensor of training observations.\n",
    "            likelihood: A likelihood. If omitted, use a standard\n",
    "                GaussianLikelihood with inferred noise level.\n",
    "            covar_module: The module computing the covariance (Kernel) matrix.\n",
    "                If omitted, use a `MaternKernel`.\n",
    "            mean_module: The mean function to be used. If omitted, use a\n",
    "                `ConstantMean`.\n",
    "            outcome_transform: An outcome transform that is applied to the\n",
    "                training data during instantiation and to the posterior during\n",
    "                inference (that is, the `Posterior` obtained by calling\n",
    "                `.posterior` on the model will be on the original scale).\n",
    "            input_transform: An input transform that is applied in the model's\n",
    "                forward pass.\n",
    "        \"\"\"\n",
    "        with torch.no_grad():\n",
    "            transformed_X = self.transform_inputs(\n",
    "                X=train_X, input_transform=input_transform\n",
    "            )\n",
    "        if outcome_transform is not None:\n",
    "            train_Y, _ = outcome_transform(train_Y)\n",
    "        self._validate_tensor_args(X=transformed_X, Y=train_Y)\n",
    "        ignore_X_dims = getattr(self, \"_ignore_X_dims_scaling_check\", None)\n",
    "        validate_input_scaling(\n",
    "            train_X=transformed_X, train_Y=train_Y, ignore_X_dims=ignore_X_dims\n",
    "        )\n",
    "        self._set_dimensions(train_X=train_X, train_Y=train_Y)\n",
    "        train_X, train_Y, _ = self._transform_tensor_args(X=train_X, Y=train_Y)\n",
    "        if likelihood is None:\n",
    "            # noise_prior = GammaPrior(1.1, 0.05)\n",
    "            noise_prior = GammaPrior(concentration=0.5, rate=1)\n",
    "            noise_prior_mode = (noise_prior.concentration - 1) / noise_prior.rate\n",
    "            likelihood = GaussianLikelihood(\n",
    "                noise_prior=noise_prior,\n",
    "                batch_shape=self._aug_batch_shape,\n",
    "                noise_constraint=GreaterThan(\n",
    "                    MIN_INFERRED_NOISE_LEVEL,\n",
    "                    transform=None,\n",
    "                    initial_value=noise_prior_mode,\n",
    "                ),\n",
    "            )\n",
    "        else:\n",
    "            self._is_custom_likelihood = True\n",
    "        ExactGP.__init__(self, train_X, train_Y, likelihood)\n",
    "        if mean_module is None:\n",
    "            mean_module = ConstantMean(batch_shape=self._aug_batch_shape)\n",
    "        self.mean_module = mean_module\n",
    "        if covar_module is None:\n",
    "            covar_module = ScaleKernel(\n",
    "                # MaternKernel(\n",
    "                #     nu=2.5,\n",
    "                #     ard_num_dims=transformed_X.shape[-1],\n",
    "                #     batch_shape=self._aug_batch_shape,\n",
    "                #     lengthscale_prior=GammaPrior(3.0, 6.0),),\n",
    "                RBFKernel(\n",
    "                    ard_num_dims=transformed_X.shape[-1],\n",
    "                    batch_shape=self._aug_batch_shape,\n",
    "                    lengthscale_prior=GammaPrior(3.0, 6.0),\n",
    "                ),\n",
    "                batch_shape=self._aug_batch_shape,\n",
    "                outputscale_prior=GammaPrior(2.0, 0.15),\n",
    "            )\n",
    "            self._subset_batch_dict = {\n",
    "                \"likelihood.noise_covar.raw_noise\": -2,\n",
    "                \"mean_module.raw_constant\": -1,\n",
    "                \"covar_module.raw_outputscale\": -1,\n",
    "                \"covar_module.base_kernel.raw_lengthscale\": -3,\n",
    "            }\n",
    "        self.covar_module = covar_module\n",
    "        # TODO: Allow subsetting of other covar modules\n",
    "        if outcome_transform is not None:\n",
    "            self.outcome_transform = outcome_transform\n",
    "        if input_transform is not None:\n",
    "            self.input_transform = input_transform\n",
    "        self.to(train_X)\n",
    "\n",
    "    def forward(self, x: Tensor) -> MultivariateNormal:\n",
    "        if self.training:\n",
    "            x = self.transform_inputs(x)\n",
    "        mean_x = self.mean_module(x)\n",
    "        covar_x = self.covar_module(x)\n",
    "        return MultivariateNormal(mean_x, covar_x)"
   ]
  },
  {
   "cell_type": "code",
   "execution_count": 24,
   "metadata": {
    "cellView": "form",
    "id": "fsuMMyM2z6d_"
   },
   "outputs": [],
   "source": [
    "# @title GP Util\n",
    "\n",
    "\"\"\"\n",
    "Utilities for Gaussian process (GP) inference.\n",
    "\"\"\"\n",
    "\n",
    "import numpy as np\n",
    "from scipy.linalg import solve_triangular\n",
    "from scipy.spatial.distance import cdist\n",
    "import itertools\n",
    "\n",
    "\n",
    "def kern_exp_quad_ard(xmat1, xmat2, ls, alpha):\n",
    "    \"\"\"\n",
    "    Exponentiated quadratic kernel function with\n",
    "    dimensionwise lengthscales if ls is an ndarray.\n",
    "    \"\"\"\n",
    "    xmat1 = np.expand_dims(xmat1, axis=1)\n",
    "    xmat2 = np.expand_dims(xmat2, axis=0)\n",
    "    diff = xmat1 - xmat2\n",
    "    diff /= ls\n",
    "    norm = np.sum(diff**2, axis=-1) / 2.0\n",
    "    kern = alpha**2 * np.exp(-norm)\n",
    "    return kern\n",
    "\n",
    "\n",
    "def kern_exp_quad_ard_sklearn(xmat1, xmat2, ls, alpha):\n",
    "    \"\"\"\n",
    "    Exponentiated quadratic kernel function with dimensionwise lengthscales if ls is an\n",
    "    ndarray, based on scikit-learn implementation.\n",
    "    \"\"\"\n",
    "    dists = cdist(xmat1 / ls, xmat2 / ls, metric=\"sqeuclidean\")\n",
    "    exp_neg_norm = np.exp(-0.5 * dists)\n",
    "    return alpha**2 * exp_neg_norm\n",
    "\n",
    "\n",
    "def kern_exp_quad_ard_per(xmat1, xmat2, ls, alpha, pdims, period=2):\n",
    "    \"\"\"\n",
    "    Exponentiated quadratic kernel function with\n",
    "    - dimensionwise lengthscales if ls is an ndarray\n",
    "    - periodic dimensions denoted by pdims. We assume that the period\n",
    "    is 2.\n",
    "    \"\"\"\n",
    "    xmat1 = np.expand_dims(xmat1, axis=1)\n",
    "    xmat2 = np.expand_dims(xmat2, axis=0)\n",
    "    diff = xmat1 - xmat2\n",
    "    diff[..., pdims] = np.sin((np.pi * diff[..., pdims] / period) % (2 * np.pi))\n",
    "    # diff[..., pdims] = np.cos( (np.pi/2) + (np.pi * diff[..., pdims] / period) )\n",
    "    diff /= ls\n",
    "    norm = np.sum(diff**2, axis=-1) / 2.0\n",
    "    kern = alpha**2 * np.exp(-norm)\n",
    "\n",
    "    return kern\n",
    "\n",
    "\n",
    "def kern_exp_quad_noard(xmat1, xmat2, ls, alpha):\n",
    "    \"\"\"\n",
    "    Exponentiated quadratic kernel function (aka squared exponential kernel aka\n",
    "    RBF kernel).\n",
    "    \"\"\"\n",
    "    kern = alpha**2 * kern_exp_quad_noard_noscale(xmat1, xmat2, ls)\n",
    "    return kern\n",
    "\n",
    "\n",
    "def kern_exp_quad_noard_noscale(xmat1, xmat2, ls):\n",
    "    \"\"\"\n",
    "    Exponentiated quadratic kernel function (aka squared exponential kernel aka\n",
    "    RBF kernel), without scale parameter.\n",
    "    \"\"\"\n",
    "    distmat = squared_euc_distmat(xmat1, xmat2)\n",
    "    norm = distmat / (2 * ls**2)\n",
    "    exp_neg_norm = np.exp(-norm)\n",
    "    return exp_neg_norm\n",
    "\n",
    "\n",
    "def squared_euc_distmat(xmat1, xmat2, coef=1.0):\n",
    "    \"\"\"\n",
    "    Distance matrix of squared euclidean distance (multiplied by coef) between\n",
    "    points in xmat1 and xmat2.\n",
    "    \"\"\"\n",
    "    return coef * cdist(xmat1, xmat2, \"sqeuclidean\")\n",
    "\n",
    "\n",
    "def kern_distmat(xmat1, xmat2, ls, alpha, distfn):\n",
    "    \"\"\"\n",
    "    Kernel for a given distmat, via passed in distfn (which is assumed to be fn\n",
    "    of xmat1 and xmat2 only).\n",
    "    \"\"\"\n",
    "    distmat = distfn(xmat1, xmat2)\n",
    "    kernmat = alpha**2 * np.exp(-distmat / (2 * ls**2))\n",
    "    return kernmat\n",
    "\n",
    "\n",
    "def kern_simple_list(xlist1, xlist2, ls, alpha, base_dist=5.0):\n",
    "    \"\"\"\n",
    "    Kernel for two lists containing elements that can be compared for equality.\n",
    "    K(a,b) = 1 + base_dist if a and b are equal and K(a,b) = base_dist otherwise.\n",
    "    \"\"\"\n",
    "    distmat = simple_list_distmat(xlist1, xlist2)\n",
    "    distmat = distmat + base_dist\n",
    "    kernmat = alpha**2 * np.exp(-distmat / (2 * ls**2))\n",
    "    return kernmat\n",
    "\n",
    "\n",
    "def simple_list_distmat(xlist1, xlist2, weight=1.0, additive=False):\n",
    "    \"\"\"\n",
    "    Return distance matrix containing zeros when xlist1[i] == xlist2[j] and 0 otherwise.\n",
    "    \"\"\"\n",
    "    prod_list = list(itertools.product(xlist1, xlist2))\n",
    "    len1 = len(xlist1)\n",
    "    len2 = len(xlist2)\n",
    "    try:\n",
    "        binary_mat = np.array([x[0] != x[1] for x in prod_list]).astype(int)\n",
    "    except:\n",
    "        # For cases where comparison returns iterable of bools\n",
    "        binary_mat = np.array([all(x[0] != x[1]) for x in prod_list]).astype(int)\n",
    "\n",
    "    binary_mat = binary_mat.reshape(len1, len2)\n",
    "\n",
    "    if additive:\n",
    "        distmat = weight + binary_mat\n",
    "    else:\n",
    "        distmat = weight * binary_mat\n",
    "\n",
    "    return distmat\n",
    "\n",
    "\n",
    "def get_product_kernel(kernel_list, additive=False):\n",
    "    \"\"\"Given a list of kernel functions, return product kernel.\"\"\"\n",
    "\n",
    "    def product_kernel(x1, x2, ls, alpha):\n",
    "        \"\"\"Kernel returning elementwise-product of kernel matrices from kernel_list.\"\"\"\n",
    "        mat_prod = kernel_list[0](x1, x2, ls, 1.0)\n",
    "        for kernel in kernel_list[1:]:\n",
    "            if additive:\n",
    "                mat_prod = mat_prod + kernel(x1, x2, ls, 1.0)\n",
    "            else:\n",
    "                mat_prod = mat_prod * kernel(x1, x2, ls, 1.0)\n",
    "        mat_prod = alpha**2 * mat_prod\n",
    "        return mat_prod\n",
    "\n",
    "    return product_kernel\n",
    "\n",
    "\n",
    "def get_cholesky_decomp(k11_nonoise, sigma, psd_str):\n",
    "    \"\"\"Return cholesky decomposition.\"\"\"\n",
    "    if psd_str == \"try_first\":\n",
    "        k11 = k11_nonoise + sigma**2 * np.eye(k11_nonoise.shape[0])\n",
    "        try:\n",
    "            return stable_cholesky(k11, False)\n",
    "        except np.linalg.linalg.LinAlgError:\n",
    "            return get_cholesky_decomp(k11_nonoise, sigma, \"project_first\")\n",
    "    elif psd_str == \"project_first\":\n",
    "        k11_nonoise = project_symmetric_to_psd_cone(k11_nonoise)\n",
    "        return get_cholesky_decomp(k11_nonoise, sigma, \"is_psd\")\n",
    "    elif psd_str == \"is_psd\":\n",
    "        k11 = k11_nonoise + sigma**2 * np.eye(k11_nonoise.shape[0])\n",
    "        return stable_cholesky(k11)\n",
    "\n",
    "\n",
    "def stable_cholesky(mmat, make_psd=True, verbose=False):\n",
    "    \"\"\"Return a 'stable' cholesky decomposition of mmat.\"\"\"\n",
    "    if mmat.size == 0:\n",
    "        return mmat\n",
    "    try:\n",
    "        lmat = np.linalg.cholesky(mmat)\n",
    "    except np.linalg.linalg.LinAlgError as e:\n",
    "        if not make_psd:\n",
    "            raise e\n",
    "        diag_noise_power = -11\n",
    "        max_mmat = np.diag(mmat).max()\n",
    "        diag_noise = np.diag(mmat).max() * 1e-11\n",
    "        break_loop = False\n",
    "        while not break_loop:\n",
    "            try:\n",
    "                lmat = np.linalg.cholesky(\n",
    "                    mmat + ((10**diag_noise_power) * max_mmat) * np.eye(mmat.shape[0])\n",
    "                )\n",
    "                break_loop = True\n",
    "            except np.linalg.linalg.LinAlgError:\n",
    "                if diag_noise_power > -9:\n",
    "                    if verbose:\n",
    "                        print(\n",
    "                            \"\\t*stable_cholesky failed with \"\n",
    "                            \"diag_noise_power=%d.\" % (diag_noise_power)\n",
    "                        )\n",
    "                diag_noise_power += 1\n",
    "            if diag_noise_power >= 5:\n",
    "                print(\"\\t*stable_cholesky failed: added diag noise = %e\" % (diag_noise))\n",
    "    return lmat\n",
    "\n",
    "\n",
    "def project_symmetric_to_psd_cone(mmat, is_symmetric=True, epsilon=0):\n",
    "    \"\"\"Project symmetric matrix mmat to the PSD cone.\"\"\"\n",
    "    if is_symmetric:\n",
    "        try:\n",
    "            eigvals, eigvecs = np.linalg.eigh(mmat)\n",
    "        except np.linalg.LinAlgError:\n",
    "            print(\"\\tLinAlgError encountered with np.eigh. Defaulting to eig.\")\n",
    "            eigvals, eigvecs = np.linalg.eig(mmat)\n",
    "            eigvals = np.real(eigvals)\n",
    "            eigvecs = np.real(eigvecs)\n",
    "    else:\n",
    "        eigvals, eigvecs = np.linalg.eig(mmat)\n",
    "    clipped_eigvals = np.clip(eigvals, epsilon, np.inf)\n",
    "    return (eigvecs * clipped_eigvals).dot(eigvecs.T)\n",
    "\n",
    "\n",
    "def solve_lower_triangular(amat, b):\n",
    "    \"\"\"Solves amat*x=b when amat is lower triangular.\"\"\"\n",
    "    return solve_triangular_base(amat, b, lower=True)\n",
    "\n",
    "\n",
    "def solve_upper_triangular(amat, b):\n",
    "    \"\"\"Solves amat*x=b when amat is upper triangular.\"\"\"\n",
    "    return solve_triangular_base(amat, b, lower=False)\n",
    "\n",
    "\n",
    "def solve_triangular_base(amat, b, lower):\n",
    "    \"\"\"Solves amat*x=b when amat is a triangular matrix.\"\"\"\n",
    "    if amat.size == 0 and b.shape[0] == 0:\n",
    "        return np.zeros((b.shape))\n",
    "    else:\n",
    "        return solve_triangular(amat, b, lower=lower)\n",
    "\n",
    "\n",
    "def sample_mvn(mu, covmat, nsamp):\n",
    "    \"\"\"\n",
    "    Sample from multivariate normal distribution with mean mu and covariance\n",
    "    matrix covmat.\n",
    "    \"\"\"\n",
    "    mu = mu.reshape(-1)\n",
    "    ndim = len(mu)\n",
    "    lmat = stable_cholesky(covmat)\n",
    "    umat = np.random.normal(size=(ndim, nsamp))\n",
    "    return lmat.dot(umat).T + mu\n",
    "\n",
    "\n",
    "def gp_post(x_train, y_train, x_pred, ls, alpha, full_cov=True):\n",
    "    \"\"\"Compute parameters of GP posterior\"\"\"\n",
    "    k11_nonoise = kern_exp_quad_noard(x_train, x_train, alpha=alpha, ls=ls)\n",
    "    lmat = get_cholesky_decomp(k11_nonoise, 1e-2, \"try_first\")\n",
    "    smat = solve_upper_triangular(lmat.T, solve_lower_triangular(lmat, y_train))\n",
    "    k21 = kern_exp_quad_noard(x_pred, x_train, alpha=alpha, ls=ls)\n",
    "    mu2 = k21.dot(smat)\n",
    "    k22 = kern_exp_quad_noard(x_pred, x_pred, alpha=alpha, ls=ls)\n",
    "    vmat = solve_lower_triangular(lmat, k21.T)\n",
    "    k2 = k22 - vmat.T.dot(vmat)\n",
    "    if full_cov is False:\n",
    "        k2 = np.sqrt(np.diag(k2))\n",
    "    return mu2, k2\n",
    "\n",
    "\n",
    "# def query(x):\n",
    "#     assert len(x.shape) == 2\n",
    "\n",
    "#     xs, ys = ground_truth(n_dim=x.shape[1])\n",
    "#     xs_new = np.concatenate([xs, x], axis=0)\n",
    "\n",
    "#     print('xs: ', xs.shape)\n",
    "#     print('xs_new: ', xs_new.shape)\n",
    "\n",
    "#     mean_new = np.zeros(xs_new.shape[0])\n",
    "#     gram_new = np.array(cov_matrix(xs_new))\n",
    "\n",
    "#     if x.shape[1] == 1: np.random.seed(62)\n",
    "#     elif x.shape[1] == 2: np.random.seed(14)\n",
    "\n",
    "#     ys_new = sample_mvn(mean_new, gram_new, 1).squeeze()\n",
    "\n",
    "#     return ys_new[-x.shape[0]:]\n",
    "\n",
    "# # We will use the simplest form of GP model, exact inference\n",
    "# class ExactGPModel(gpytorch.models.ExactGP):\n",
    "#     def __init__(self, train_x, train_y, likelihood):\n",
    "#         super(ExactGPModel, self).__init__(train_x, train_y, likelihood)\n",
    "#         self.mean_module = gpytorch.means.ConstantMean()\n",
    "#         self.covar_module = gpytorch.kernels.ScaleKernel(gpytorch.kernels.RBFKernel())\n",
    "\n",
    "#     def forward(self, x):\n",
    "#         mean_x = self.mean_module(x)\n",
    "#         covar_x = self.covar_module(x)\n",
    "#         return gpytorch.distributions.MultivariateNormal(mean_x, covar_x)\n",
    "\n",
    "# def rbf_kernel(x1, x2, variance = 0.05):\n",
    "#     return exp(-1 * (((x1-x2)**2).sum()) / (2*variance))\n",
    "\n",
    "# def cov_matrix(xs):\n",
    "#     return [[rbf_kernel(x1,x2) for x2 in xs] for x1 in xs]"
   ]
  },
  {
   "cell_type": "code",
   "execution_count": 25,
   "metadata": {
    "cellView": "form",
    "id": "t3-nxmM7Y5As"
   },
   "outputs": [],
   "source": [
    "# @title ModelInit\n",
    "\n",
    "\n",
    "def init_model(n_dim):\n",
    "    train = False\n",
    "    noise = False\n",
    "\n",
    "    alpha = 1\n",
    "    ls = math.sqrt(0.05)\n",
    "\n",
    "    xs, ys = ground_truth(draw=False, n_dim=n_dim, alpha=alpha, ls=ls)\n",
    "\n",
    "    train_x = np.linspace(0, 1, 4).reshape(-1, n_dim)\n",
    "\n",
    "    if n_dim == 1:\n",
    "        train_x = np.linspace(0, 1, 4).reshape(-1, n_dim)\n",
    "        x_start = np.array([[0.2]])\n",
    "    elif n_dim == 2:\n",
    "        train_x = np.mgrid[0:1:4j, 0:1:4j].reshape(2, -1).T\n",
    "        x_start = np.array([[0.4, 0.4]])\n",
    "    else:\n",
    "        raise\n",
    "\n",
    "    train_x = np.concatenate([train_x, x_start], axis=0)\n",
    "    train_y, _ = gp_post(x_train=xs, y_train=ys, x_pred=train_x, alpha=alpha, ls=ls)\n",
    "\n",
    "    train_x = torch.tensor(train_x, dtype=torch.float64)\n",
    "    train_y = torch.tensor(train_y, dtype=torch.float64)\n",
    "    train_y = train_y[:, None]\n",
    "\n",
    "    model = SingleTaskGP(train_X=train_x, train_Y=train_y)\n",
    "    if noise:\n",
    "        model.likelihood.noise_covar.register_constraint(\"raw_noise\", GreaterThan(1e-6))\n",
    "\n",
    "    mll = ExactMarginalLogLikelihood(likelihood=model.likelihood, model=model)\n",
    "    mll = mll.to(train_x)\n",
    "\n",
    "    if not train:\n",
    "        model.covar_module.base_kernel.lengthscale = ls\n",
    "        model.covar_module.outputscale = alpha\n",
    "        model.likelihood.noise = 1e-10\n",
    "    else:\n",
    "        optimizer = SGD([{\"params\": model.parameters()}], lr=0.05)\n",
    "        NUM_EPOCHS = 10000\n",
    "\n",
    "        model.train()\n",
    "\n",
    "        for epoch in range(NUM_EPOCHS):\n",
    "            optimizer.zero_grad()\n",
    "            # forward pass through the model to\n",
    "            # obtain the output MultivariateNormal\n",
    "            output = model(train_x)\n",
    "            # Compute negative marginal log likelihood\n",
    "            loss = -mll(output, model.train_targets)\n",
    "            # back prop gradients\n",
    "            loss.backward()\n",
    "            # print every 200 iterations\n",
    "            if (epoch + 1) % 200 == 0:\n",
    "                print(\n",
    "                    f\"Epoch {epoch+1:>3}/{NUM_EPOCHS} - Loss: {loss.item():>4.10f} \"\n",
    "                    f\"lengthscale: {model.covar_module.base_kernel.lengthscale.item():>4.10f} \"\n",
    "                    f\"outputscale: {model.covar_module.outputscale.item():>4.10f} \"\n",
    "                    f\"noise: {model.likelihood.noise.item():>4.10f}\"\n",
    "                )\n",
    "\n",
    "            optimizer.step()\n",
    "\n",
    "    # set model (and likelihood)\n",
    "    model.eval()\n",
    "\n",
    "    return model, train_x, train_y\n",
    "\n",
    "\n",
    "def draw_posterior():\n",
    "    n_dim = 2\n",
    "\n",
    "    model, train_x, train_y = init_model(n_dim=n_dim)\n",
    "\n",
    "    grid = 20j\n",
    "    test_x = np.mgrid[0:1:grid, 0:1:grid].reshape(2, -1).T\n",
    "\n",
    "    alpha = 1\n",
    "    ls = math.sqrt(0.05)\n",
    "\n",
    "    test_y, _ = gp_post(\n",
    "        x_train=train_x, y_train=train_y, x_pred=test_x, alpha=alpha, ls=ls\n",
    "    )\n",
    "\n",
    "    xpts = np.linspace(0, 1, int(abs(grid)))\n",
    "    ypts = np.linspace(0, 1, int(abs(grid)))\n",
    "    X, Y = np.meshgrid(xpts, ypts)\n",
    "    resol = int(abs(grid))\n",
    "    Z = test_y.reshape(resol, resol).T\n",
    "\n",
    "    plt.figure(figsize=(7, 7))\n",
    "    cf = plt.contourf(X, Y, Z, 40, cmap=cm.coolwarm, zorder=0)\n",
    "    cbar = plt.colorbar(cf, fraction=0.046, pad=0.04)\n",
    "\n",
    "    plt.scatter(train_x[:, 0], train_x[:, 1], marker=\"*\", color=\"black\")\n",
    "\n",
    "    # prev_x = torch.tensor([[0.2, 0.6]])\n",
    "\n",
    "    # plt.hlines(prev_x[0, 1] - 0.1, 0, 1, linestyle='--')\n",
    "    # plt.hlines(prev_x[0, 1] + 0.1, 0, 1, linestyle='--')\n",
    "    # plt.vlines(prev_x[0, 0] - 0.1, 0, 1, linestyle='--')\n",
    "    # plt.vlines(prev_x[0, 0] + 0.1, 0, 1, linestyle='--')"
   ]
  },
  {
   "cell_type": "markdown",
   "metadata": {
    "id": "LS95Dmo0b5ZY"
   },
   "source": [
    "# 1D Case"
   ]
  },
  {
   "cell_type": "code",
   "execution_count": 26,
   "metadata": {
    "colab": {
     "base_uri": "https://localhost:8080/"
    },
    "executionInfo": {
     "elapsed": 285,
     "status": "ok",
     "timestamp": 1664746987567,
     "user": {
      "displayName": "Sang Truong",
      "userId": "02872493733615210272"
     },
     "user_tz": 420
    },
    "id": "wNDCIyf_WzYo",
    "outputId": "7fb1d39b-3d54-472a-cf68-413494ccfdba"
   },
   "outputs": [],
   "source": [
    "model, train_x, train_y = init_model(n_dim=1)"
   ]
  },
  {
   "cell_type": "code",
   "execution_count": 30,
   "metadata": {
    "cellView": "form",
    "colab": {
     "base_uri": "https://localhost:8080/"
    },
    "executionInfo": {
     "elapsed": 1346,
     "status": "ok",
     "timestamp": 1664746992461,
     "user": {
      "displayName": "Sang Truong",
      "userId": "02872493733615210272"
     },
     "user_tz": 420
    },
    "id": "Bc9HLrTIzy2p",
    "outputId": "b5588034-eeae-4109-fe92-f185acff7e6e"
   },
   "outputs": [
    {
     "data": {
      "image/png": "[encoded data removed]",
      "text/plain": [
       "<Figure size 700x700 with 1 Axes>"
      ]
     },
     "metadata": {},
     "output_type": "display_data"
    }
   ],
   "source": [
    "# @title Naive Myopic\n",
    "prev_x = 0.2\n",
    "temp = []\n",
    "for x0 in torch.linspace(prev_x - 0.1, prev_x + 0.1, 10):\n",
    "    x0 = x0.reshape(1).double()\n",
    "    p_y0_on_x0_D0 = model.posterior(x0)\n",
    "\n",
    "    p_f_on_D1 = model.condition_on_observations(x0, p_y0_on_x0_D0.mean)\n",
    "\n",
    "    for a in torch.linspace(x0.item() - 0.1, x0.item() + 0.1, 10):\n",
    "        a = a.reshape(1)\n",
    "        p_y1_a_D1 = p_f_on_D1.posterior(a)\n",
    "        temp.append([x0, a, p_y1_a_D1.mean])\n",
    "\n",
    "temp = torch.tensor(temp)\n",
    "best = torch.argmin(temp, dim=0)[2].item()\n",
    "best_x, best_a, best_hes = temp[best].numpy().tolist()\n",
    "\n",
    "plt.figure(figsize=(7, 7))\n",
    "ground_truth(draw=True)\n",
    "\n",
    "plt.vlines(prev_x, -1, 1, color=\"black\")\n",
    "plt.vlines(prev_x - 0.1, -1, 1, color=\"black\", linestyle=\"--\")\n",
    "plt.vlines(prev_x + 0.1, -1, 1, color=\"black\", linestyle=\"--\")\n",
    "\n",
    "plt.vlines(best_x, -1, 1, color=\"red\")\n",
    "plt.vlines(best_a, -1, 1, color=\"blue\")\n",
    "\n",
    "plt.plot(train_x.cpu().numpy(), train_y.cpu().numpy(), \"k*\")\n",
    "\n",
    "# compute posterior\n",
    "test_x = torch.linspace(0, 1, 100)\n",
    "posterior = model.posterior(test_x)\n",
    "test_y = posterior.mean\n",
    "lower, upper = posterior.mvn.confidence_region()\n",
    "\n",
    "plt.plot(test_x.cpu().detach().numpy(), test_y.cpu().detach().numpy(), \"green\")\n",
    "\n",
    "plt.fill_between(\n",
    "    test_x.cpu().detach().numpy(),\n",
    "    lower.cpu().detach().numpy(),\n",
    "    upper.cpu().detach().numpy(),\n",
    "    alpha=0.25,\n",
    ")\n",
    "\n",
    "plt.tight_layout()\n",
    "plt.ylim(-1, 1)\n",
    "\n",
    "plt.show()"
   ]
  },
  {
   "cell_type": "code",
   "execution_count": 31,
   "metadata": {
    "cellView": "form",
    "colab": {
     "base_uri": "https://localhost:8080/",
     "height": 534
    },
    "executionInfo": {
     "elapsed": 21971,
     "status": "ok",
     "timestamp": 1664741023327,
     "user": {
      "displayName": "Sang Truong",
      "userId": "02872493733615210272"
     },
     "user_tz": 420
    },
    "id": "hAMdEuM24Chq",
    "outputId": "e1c645b7-e5a5-48a5-f0f7-d907673d3811"
   },
   "outputs": [
    {
     "name": "stderr",
     "output_type": "stream",
     "text": [
      "100%|█████████████████████████████████████████████████████████████████████████████████████████████████████████| 10/10 [00:27<00:00,  2.73s/it]\n"
     ]
    },
    {
     "data": {
      "image/png": "[encoded data removed]",
      "text/plain": [
       "<Figure size 700x700 with 1 Axes>"
      ]
     },
     "metadata": {},
     "output_type": "display_data"
    }
   ],
   "source": [
    "# @title Naive 3 steps\n",
    "\n",
    "prev_x = 0.2\n",
    "temp = []\n",
    "for x0 in tqdm(torch.linspace(prev_x - 0.1, prev_x + 0.1, 10)):\n",
    "    x0 = x0.reshape(1).double()\n",
    "    p_y0_on_x0_D0 = model.posterior(x0)\n",
    "    p_f_on_D1 = model.condition_on_observations(x0, p_y0_on_x0_D0.mean)\n",
    "\n",
    "    for x1 in torch.linspace(x0.item() - 0.1, x0.item() + 0.1, 10):\n",
    "        x1 = x1.reshape(1).double()\n",
    "        p_y1_on_x1_D1 = p_f_on_D1.posterior(x1)\n",
    "        p_f_on_D2 = p_f_on_D1.condition_on_observations(x1, p_y1_on_x1_D1.mean)\n",
    "\n",
    "        for x2 in torch.linspace(x1.item() - 0.1, x1.item() + 0.1, 10):\n",
    "            x2 = x2.reshape(1).double()\n",
    "            p_y2_on_x2_D2 = p_f_on_D2.posterior(x2)\n",
    "            p_f_on_D3 = p_f_on_D2.condition_on_observations(x2, p_y2_on_x2_D2.mean)\n",
    "\n",
    "            for a in torch.linspace(x2.item() - 0.1, x2.item() + 0.1, 10):\n",
    "                a = a.reshape(1).double()\n",
    "                p_y3_a_D3 = p_f_on_D3.posterior(a)\n",
    "                temp.append([x0, a, p_y3_a_D3.mean])\n",
    "\n",
    "temp = torch.tensor(temp)\n",
    "best = torch.argmin(temp, dim=0)[2].item()\n",
    "best_x, best_a, best_hes = temp[best].numpy().tolist()\n",
    "\n",
    "plt.figure(figsize=(7, 7))\n",
    "ground_truth(draw=True)\n",
    "\n",
    "plt.vlines(prev_x, -1, 1, color=\"black\")\n",
    "plt.vlines(prev_x - 0.1, -1, 1, color=\"black\", linestyle=\"--\")\n",
    "plt.vlines(prev_x + 0.1, -1, 1, color=\"black\", linestyle=\"--\")\n",
    "\n",
    "plt.vlines(best_x, -1, 1, color=\"red\")\n",
    "plt.vlines(best_a, -1, 1, color=\"blue\")\n",
    "\n",
    "plt.plot(train_x.cpu().numpy(), train_y.cpu().numpy(), \"k*\")\n",
    "\n",
    "# compute posterior\n",
    "test_x = torch.linspace(0, 1, 100)\n",
    "posterior = model.posterior(test_x)\n",
    "test_y = posterior.mean\n",
    "lower, upper = posterior.mvn.confidence_region()\n",
    "\n",
    "plt.plot(test_x.cpu().detach().numpy(), test_y.cpu().detach().numpy(), \"green\")\n",
    "\n",
    "plt.fill_between(\n",
    "    test_x.cpu().detach().numpy(),\n",
    "    lower.cpu().detach().numpy(),\n",
    "    upper.cpu().detach().numpy(),\n",
    "    alpha=0.25,\n",
    ")\n",
    "\n",
    "plt.tight_layout()\n",
    "plt.ylim(-1, 1)\n",
    "\n",
    "plt.show()"
   ]
  },
  {
   "cell_type": "code",
   "execution_count": null,
   "metadata": {
    "cellView": "form",
    "colab": {
     "base_uri": "https://localhost:8080/",
     "height": 534
    },
    "executionInfo": {
     "elapsed": 256627,
     "status": "ok",
     "timestamp": 1664741283908,
     "user": {
      "displayName": "Sang Truong",
      "userId": "02872493733615210272"
     },
     "user_tz": 420
    },
    "id": "jb-NL-Iu4CeF",
    "outputId": "cba8dd38-e2e9-4205-fd9c-afcb39e82165"
   },
   "outputs": [
    {
     "name": "stderr",
     "output_type": "stream",
     "text": [
      "100%|██████████| 10/10 [04:12<00:00, 25.28s/it]\n"
     ]
    },
    {
     "data": {
      "image/png": "[encoded data removed]",
      "text/plain": [
       "<Figure size 504x504 with 1 Axes>"
      ]
     },
     "metadata": {
      "needs_background": "light"
     },
     "output_type": "display_data"
    }
   ],
   "source": [
    "# @title Joint 3 Steps\n",
    "\n",
    "\n",
    "def compute_ehig(x0, x1, x2, a):\n",
    "    p_y0_on_x0_D0 = model.posterior(x0)\n",
    "    p_f_on_D1 = model.condition_on_observations(x0, p_y0_on_x0_D0.mean)\n",
    "\n",
    "    p_y1_on_x1_D1 = p_f_on_D1.posterior(x1)\n",
    "    p_f_on_D2 = p_f_on_D1.condition_on_observations(x1, p_y1_on_x1_D1.mean)\n",
    "\n",
    "    p_y2_on_x2_D2 = p_f_on_D2.posterior(x2)\n",
    "    p_f_on_D3 = p_f_on_D2.condition_on_observations(x2, p_y2_on_x2_D2.mean)\n",
    "\n",
    "    p_y3_a_D3 = p_f_on_D3.posterior(a)\n",
    "\n",
    "    ehig = p_y3_a_D3.mean\n",
    "\n",
    "    return ehig\n",
    "\n",
    "\n",
    "prev_x = 0.2\n",
    "temp = []\n",
    "for x0 in tqdm(torch.linspace(prev_x - 0.1, prev_x + 0.1, 10)):\n",
    "    if not 0 <= x0.item() <= 1:\n",
    "        continue\n",
    "    x0 = x0.reshape(1)\n",
    "    for x1 in torch.linspace(x0.item() - 0.1, x0.item() + 0.1, 10):\n",
    "        if not 0 <= x1.item() <= 1:\n",
    "            continue\n",
    "        x1 = x1.reshape(1)\n",
    "        for x2 in torch.linspace(x1.item() - 0.1, x1.item() + 0.1, 10):\n",
    "            if not 0 <= x2.item() <= 1:\n",
    "                continue\n",
    "            x2 = x2.reshape(1)\n",
    "            for a in torch.linspace(x2.item() - 0.1, x2.item() + 0.1, 10):\n",
    "                if not 0 <= a.item() <= 1:\n",
    "                    continue\n",
    "                a = a.reshape(1)\n",
    "\n",
    "                ehig = compute_ehig(x0, x1, x2, a)\n",
    "\n",
    "                temp.append([x0, a, ehig])\n",
    "\n",
    "temp = torch.tensor(temp)\n",
    "best = torch.argmin(temp, dim=0)[2].item()\n",
    "best_x, best_a, best_hes = temp[best].numpy().tolist()\n",
    "\n",
    "plt.figure(figsize=(7, 7))\n",
    "ground_truth(draw=True)\n",
    "\n",
    "plt.vlines(prev_x, -1, 1, color=\"black\")\n",
    "plt.vlines(prev_x - 0.1, -1, 1, color=\"black\", linestyle=\"--\")\n",
    "plt.vlines(prev_x + 0.1, -1, 1, color=\"black\", linestyle=\"--\")\n",
    "\n",
    "plt.vlines(best_x, -1, 1, color=\"red\")\n",
    "plt.vlines(best_a, -1, 1, color=\"blue\")\n",
    "\n",
    "plt.plot(train_x.cpu().numpy(), train_y.cpu().numpy(), \"k*\")\n",
    "\n",
    "# compute posterior\n",
    "test_x = torch.linspace(0, 1, 100)\n",
    "posterior = model.posterior(test_x)\n",
    "test_y = posterior.mean\n",
    "lower, upper = posterior.mvn.confidence_region()\n",
    "\n",
    "plt.plot(test_x.cpu().detach().numpy(), test_y.cpu().detach().numpy(), \"green\")\n",
    "\n",
    "plt.fill_between(\n",
    "    test_x.cpu().detach().numpy(),\n",
    "    lower.cpu().detach().numpy(),\n",
    "    upper.cpu().detach().numpy(),\n",
    "    alpha=0.25,\n",
    ")\n",
    "\n",
    "plt.tight_layout()\n",
    "plt.ylim(-1, 1)\n",
    "\n",
    "plt.show()"
   ]
  },
  {
   "cell_type": "code",
   "execution_count": null,
   "metadata": {
    "cellView": "form",
    "colab": {
     "base_uri": "https://localhost:8080/",
     "height": 534
    },
    "executionInfo": {
     "elapsed": 1233,
     "status": "ok",
     "timestamp": 1664741305513,
     "user": {
      "displayName": "Sang Truong",
      "userId": "02872493733615210272"
     },
     "user_tz": 420
    },
    "id": "d89m5IxqajwO",
    "outputId": "9d745b60-1eae-458a-8ede-dd4bb10cf6ff"
   },
   "outputs": [
    {
     "name": "stderr",
     "output_type": "stream",
     "text": [
      "100%|██████████| 2/2 [00:00<00:00,  4.50it/s]\n"
     ]
    },
    {
     "data": {
      "image/png": "[encoded data removed]",
      "text/plain": [
       "<Figure size 504x504 with 1 Axes>"
      ]
     },
     "metadata": {
      "needs_background": "light"
     },
     "output_type": "display_data"
    }
   ],
   "source": [
    "# @title Joint 3 Steps with sigmoid\n",
    "\n",
    "\n",
    "def compute_ehig(x0, x1, x2, a):\n",
    "    \"\"\"\n",
    "    x0 to a: unconstraint optimization parameters\n",
    "    \"\"\"\n",
    "    x0 = torch.sigmoid(x0) * 0.2 + (prev_x - 0.1)\n",
    "\n",
    "    x1 = torch.sigmoid(x1) * 0.2 + (x0 - 0.1)\n",
    "\n",
    "    x2 = torch.sigmoid(x2) * 0.2 + (x1 - 0.1)\n",
    "    # x2 = x2 * 2\n",
    "\n",
    "    a = torch.sigmoid(a) * 0.2 + (x2 - 0.1)\n",
    "    # a = a * 2\n",
    "\n",
    "    x0 = x0.reshape(1)\n",
    "    x1 = x1.reshape(1)\n",
    "    x2 = x2.reshape(1)\n",
    "    a = a.reshape(1)\n",
    "\n",
    "    p_y0_on_x0_D0 = model.posterior(x0)\n",
    "    p_f_on_D1 = model.condition_on_observations(x0, p_y0_on_x0_D0.mean)\n",
    "\n",
    "    p_y1_on_x1_D1 = p_f_on_D1.posterior(x1)\n",
    "    p_f_on_D2 = p_f_on_D1.condition_on_observations(x1, p_y1_on_x1_D1.mean)\n",
    "\n",
    "    p_y2_on_x2_D2 = p_f_on_D2.posterior(x2)\n",
    "    p_f_on_D3 = p_f_on_D2.condition_on_observations(x2, p_y2_on_x2_D2.mean)\n",
    "\n",
    "    p_y3_a_D3 = p_f_on_D3.posterior(a)\n",
    "\n",
    "    ehig = p_y3_a_D3.mean\n",
    "\n",
    "    return x0, a, ehig\n",
    "\n",
    "\n",
    "prev_x = 0.2\n",
    "temp = []\n",
    "for x0 in tqdm(torch.linspace(-10, 10, 2)):\n",
    "    for x1 in torch.linspace(-10, 10, 2):\n",
    "        for x2 in torch.linspace(-10, 10, 2):\n",
    "            for a in torch.linspace(-10, 10, 2):\n",
    "                x0_, a_, ehig = compute_ehig(x0, x1, x2, a)\n",
    "\n",
    "                temp.append([x0_, a_, ehig])\n",
    "\n",
    "temp = torch.tensor(temp)\n",
    "best = torch.argmin(temp, dim=0)[2].item()\n",
    "best_x, best_a, best_hes = temp[best].numpy().tolist()\n",
    "\n",
    "plt.figure(figsize=(7, 7))\n",
    "ground_truth(draw=True)\n",
    "\n",
    "plt.vlines(prev_x, -1, 1, color=\"black\")\n",
    "plt.vlines(prev_x - 0.1, -1, 1, color=\"black\", linestyle=\"--\")\n",
    "plt.vlines(prev_x + 0.1, -1, 1, color=\"black\", linestyle=\"--\")\n",
    "\n",
    "plt.vlines(best_x, -1, 1, color=\"red\")\n",
    "plt.vlines(best_a, -1, 1, color=\"blue\")\n",
    "\n",
    "plt.plot(train_x.cpu().numpy(), train_y.cpu().numpy(), \"k*\")\n",
    "\n",
    "# compute posterior\n",
    "test_x = torch.linspace(0, 1, 100)\n",
    "posterior = model.posterior(test_x)\n",
    "test_y = posterior.mean\n",
    "lower, upper = posterior.mvn.confidence_region()\n",
    "\n",
    "plt.plot(test_x.cpu().detach().numpy(), test_y.cpu().detach().numpy(), \"green\")\n",
    "\n",
    "plt.fill_between(\n",
    "    test_x.cpu().detach().numpy(),\n",
    "    lower.cpu().detach().numpy(),\n",
    "    upper.cpu().detach().numpy(),\n",
    "    alpha=0.25,\n",
    ")\n",
    "\n",
    "plt.tight_layout()\n",
    "plt.ylim(-1, 1)\n",
    "\n",
    "plt.show()"
   ]
  },
  {
   "cell_type": "code",
   "execution_count": null,
   "metadata": {
    "cellView": "form",
    "colab": {
     "base_uri": "https://localhost:8080/",
     "height": 728
    },
    "executionInfo": {
     "elapsed": 39157,
     "status": "ok",
     "timestamp": 1664741353932,
     "user": {
      "displayName": "Sang Truong",
      "userId": "02872493733615210272"
     },
     "user_tz": 420
    },
    "id": "ca3QIWZyhB-R",
    "outputId": "ab96603e-65b8-44c3-abd6-bbd5539dd1a0"
   },
   "outputs": [
    {
     "name": "stderr",
     "output_type": "stream",
     "text": [
      "  1%|          | 6/1000 [00:00<00:38, 25.52it/s]"
     ]
    },
    {
     "name": "stdout",
     "output_type": "stream",
     "text": [
      "0.6987092864477195 tensor([4.9602], requires_grad=True) tensor([5.5624], requires_grad=True) tensor([1.0280], requires_grad=True) tensor([1.3378], requires_grad=True)\n"
     ]
    },
    {
     "name": "stderr",
     "output_type": "stream",
     "text": [
      " 10%|█         | 105/1000 [00:03<00:33, 26.38it/s]"
     ]
    },
    {
     "name": "stdout",
     "output_type": "stream",
     "text": [
      "0.1532433692144186 tensor([8.8435], requires_grad=True) tensor([9.4419], requires_grad=True) tensor([5.2694], requires_grad=True) tensor([5.4931], requires_grad=True)\n"
     ]
    },
    {
     "name": "stderr",
     "output_type": "stream",
     "text": [
      " 20%|██        | 204/1000 [00:07<00:30, 26.34it/s]"
     ]
    },
    {
     "name": "stdout",
     "output_type": "stream",
     "text": [
      "0.14631801903649638 tensor([9.7084], requires_grad=True) tensor([10.3064], requires_grad=True) tensor([6.1588], requires_grad=True) tensor([6.3771], requires_grad=True)\n"
     ]
    },
    {
     "name": "stderr",
     "output_type": "stream",
     "text": [
      " 31%|███       | 306/1000 [00:11<00:25, 26.71it/s]"
     ]
    },
    {
     "name": "stdout",
     "output_type": "stream",
     "text": [
      "0.1442396287919783 tensor([10.2622], requires_grad=True) tensor([10.8602], requires_grad=True) tensor([6.7207], requires_grad=True) tensor([6.9373], requires_grad=True)\n"
     ]
    },
    {
     "name": "stderr",
     "output_type": "stream",
     "text": [
      " 40%|████      | 405/1000 [00:15<00:22, 26.59it/s]"
     ]
    },
    {
     "name": "stdout",
     "output_type": "stream",
     "text": [
      "0.14330343498940964 tensor([10.6734], requires_grad=True) tensor([11.2713], requires_grad=True) tensor([7.1358], requires_grad=True) tensor([7.3515], requires_grad=True)\n"
     ]
    },
    {
     "name": "stderr",
     "output_type": "stream",
     "text": [
      " 50%|█████     | 504/1000 [00:18<00:18, 26.55it/s]"
     ]
    },
    {
     "name": "stdout",
     "output_type": "stream",
     "text": [
      "0.14279040765671483 tensor([11.0021], requires_grad=True) tensor([11.5998], requires_grad=True) tensor([7.4668], requires_grad=True) tensor([7.6820], requires_grad=True)\n"
     ]
    },
    {
     "name": "stderr",
     "output_type": "stream",
     "text": [
      " 61%|██████    | 606/1000 [00:22<00:14, 27.07it/s]"
     ]
    },
    {
     "name": "stdout",
     "output_type": "stream",
     "text": [
      "0.14247503391294386 tensor([11.2771], requires_grad=True) tensor([11.8747], requires_grad=True) tensor([7.7432], requires_grad=True) tensor([7.9581], requires_grad=True)\n"
     ]
    },
    {
     "name": "stderr",
     "output_type": "stream",
     "text": [
      " 70%|███████   | 705/1000 [00:26<00:11, 26.64it/s]"
     ]
    },
    {
     "name": "stdout",
     "output_type": "stream",
     "text": [
      "0.14226527242169007 tensor([11.5141], requires_grad=True) tensor([12.1118], requires_grad=True) tensor([7.9813], requires_grad=True) tensor([8.1960], requires_grad=True)\n"
     ]
    },
    {
     "name": "stderr",
     "output_type": "stream",
     "text": [
      " 80%|████████  | 804/1000 [00:29<00:07, 27.47it/s]"
     ]
    },
    {
     "name": "stdout",
     "output_type": "stream",
     "text": [
      "0.14211748531294544 tensor([11.7231], requires_grad=True) tensor([12.3207], requires_grad=True) tensor([8.1910], requires_grad=True) tensor([8.4056], requires_grad=True)\n"
     ]
    },
    {
     "name": "stderr",
     "output_type": "stream",
     "text": [
      " 91%|█████████ | 906/1000 [00:33<00:03, 26.96it/s]"
     ]
    },
    {
     "name": "stdout",
     "output_type": "stream",
     "text": [
      "0.14200893665113595 tensor([11.9105], requires_grad=True) tensor([12.5081], requires_grad=True) tensor([8.3790], requires_grad=True) tensor([8.5934], requires_grad=True)\n"
     ]
    },
    {
     "name": "stderr",
     "output_type": "stream",
     "text": [
      "100%|██████████| 1000/1000 [00:37<00:00, 26.61it/s]\n"
     ]
    },
    {
     "data": {
      "image/png": "[encoded data removed]",
      "text/plain": [
       "<Figure size 504x504 with 1 Axes>"
      ]
     },
     "metadata": {
      "needs_background": "light"
     },
     "output_type": "display_data"
    }
   ],
   "source": [
    "# @title Joint 3 Steps with sigmoid and adam\n",
    "\n",
    "\n",
    "def compute_ehig(x0, x1, x2, a):\n",
    "    \"\"\"\n",
    "    x0 to a: unconstraint optimization parameters\n",
    "    \"\"\"\n",
    "\n",
    "    x0 = torch.sigmoid(x0) * 0.2 + (prev_x - 0.1)\n",
    "\n",
    "    x1 = torch.sigmoid(x1) * 0.2 + (x0 - 0.1)\n",
    "\n",
    "    x2 = torch.sigmoid(x2) * 0.2 + (x1 - 0.1)\n",
    "    # x2 = x2 * 2\n",
    "\n",
    "    a = torch.sigmoid(a) * 0.2 + (x2 - 0.1)\n",
    "    # a = a * 2\n",
    "\n",
    "    x0 = x0.reshape(1)\n",
    "    x1 = x1.reshape(1)\n",
    "    x2 = x2.reshape(1)\n",
    "    a = a.reshape(1)\n",
    "\n",
    "    p_y0_on_x0_D0 = model.posterior(x0)\n",
    "    p_f_on_D1 = model.condition_on_observations(x0, p_y0_on_x0_D0.mean)\n",
    "\n",
    "    p_y1_on_x1_D1 = p_f_on_D1.posterior(x1)\n",
    "    p_f_on_D2 = p_f_on_D1.condition_on_observations(x1, p_y1_on_x1_D1.mean)\n",
    "\n",
    "    p_y2_on_x2_D2 = p_f_on_D2.posterior(x2)\n",
    "    p_f_on_D3 = p_f_on_D2.condition_on_observations(x2, p_y2_on_x2_D2.mean)\n",
    "\n",
    "    p_y3_a_D3 = p_f_on_D3.posterior(a)\n",
    "    ehig = p_y3_a_D3.mean\n",
    "\n",
    "    return x0, a, ehig.squeeze()\n",
    "\n",
    "\n",
    "prev_x = 0.2\n",
    "temp = []\n",
    "\n",
    "import torch.optim as optim\n",
    "\n",
    "x0 = (torch.rand(1) * 6).requires_grad_(True)\n",
    "x1 = (torch.rand(1) * 6).requires_grad_(True)\n",
    "x2 = (torch.rand(1) * 6).requires_grad_(True)\n",
    "a = (torch.rand(1) * 6).requires_grad_(True)\n",
    "\n",
    "optimizer = optim.Adam([x0, x1, x2, a], lr=0.1)\n",
    "for epoch in tqdm(range(1000)):\n",
    "    optimizer.zero_grad()\n",
    "    x0_, a_, ehig = compute_ehig(x0, x1, x2, a)\n",
    "    temp.append([x0_, a_, ehig])\n",
    "    ehig.backward(retain_graph=True)\n",
    "    optimizer.step()\n",
    "\n",
    "    if epoch % 100 == 0:\n",
    "        print(ehig.item(), x0, x1, x2, a)\n",
    "\n",
    "\n",
    "temp = torch.tensor(temp)\n",
    "best = torch.argmin(temp, dim=0)[2].item()\n",
    "best_x, best_a, best_hes = temp[best].numpy().tolist()\n",
    "\n",
    "plt.figure(figsize=(7, 7))\n",
    "ground_truth(draw=True)\n",
    "\n",
    "plt.vlines(prev_x, -1, 1, color=\"black\")\n",
    "plt.vlines(prev_x - 0.1, -1, 1, color=\"black\", linestyle=\"--\")\n",
    "plt.vlines(prev_x + 0.1, -1, 1, color=\"black\", linestyle=\"--\")\n",
    "\n",
    "plt.vlines(best_x, -1, 1, color=\"red\")\n",
    "plt.vlines(best_a, -1, 1, color=\"blue\")\n",
    "\n",
    "plt.plot(train_x.cpu().numpy(), train_y.cpu().numpy(), \"k*\")\n",
    "\n",
    "# compute posterior\n",
    "test_x = torch.linspace(0, 1, 100)\n",
    "posterior = model.posterior(test_x)\n",
    "test_y = posterior.mean\n",
    "lower, upper = posterior.mvn.confidence_region()\n",
    "\n",
    "plt.plot(test_x.cpu().detach().numpy(), test_y.cpu().detach().numpy(), \"green\")\n",
    "\n",
    "plt.fill_between(\n",
    "    test_x.cpu().detach().numpy(),\n",
    "    lower.cpu().detach().numpy(),\n",
    "    upper.cpu().detach().numpy(),\n",
    "    alpha=0.25,\n",
    ")\n",
    "\n",
    "plt.tight_layout()\n",
    "plt.ylim(-1, 1)\n",
    "\n",
    "plt.show()"
   ]
  },
  {
   "cell_type": "code",
   "execution_count": null,
   "metadata": {
    "cellView": "form",
    "colab": {
     "base_uri": "https://localhost:8080/",
     "height": 708
    },
    "executionInfo": {
     "elapsed": 94337,
     "status": "ok",
     "timestamp": 1664741457851,
     "user": {
      "displayName": "Sang Truong",
      "userId": "02872493733615210272"
     },
     "user_tz": 420
    },
    "id": "Mg8tDhfgJpLW",
    "outputId": "64be18df-2931-4a17-ab26-74ffe336eab3"
   },
   "outputs": [
    {
     "name": "stderr",
     "output_type": "stream",
     "text": [
      "  1%|          | 1/100 [00:00<01:30,  1.09it/s]"
     ]
    },
    {
     "name": "stdout",
     "output_type": "stream",
     "text": [
      "x0  6.245403289794922 a 9.883834838867188 loss 0.5395494012073356\n"
     ]
    },
    {
     "name": "stderr",
     "output_type": "stream",
     "text": [
      " 11%|█         | 11/100 [00:10<01:24,  1.06it/s]"
     ]
    },
    {
     "name": "stdout",
     "output_type": "stream",
     "text": [
      "x0  23.28398895263672 a 26.799057006835938 loss 0.1406508683959941\n"
     ]
    },
    {
     "name": "stderr",
     "output_type": "stream",
     "text": [
      " 21%|██        | 21/100 [00:19<01:14,  1.06it/s]"
     ]
    },
    {
     "name": "stdout",
     "output_type": "stream",
     "text": [
      "x0  28.4097900390625 a 31.886844635009766 loss 0.14458083743971586\n"
     ]
    },
    {
     "name": "stderr",
     "output_type": "stream",
     "text": [
      " 31%|███       | 31/100 [00:28<01:02,  1.10it/s]"
     ]
    },
    {
     "name": "stdout",
     "output_type": "stream",
     "text": [
      "x0  30.38779640197754 a 33.85004425048828 loss 0.14141485021423789\n"
     ]
    },
    {
     "name": "stderr",
     "output_type": "stream",
     "text": [
      " 41%|████      | 41/100 [00:38<00:55,  1.07it/s]"
     ]
    },
    {
     "name": "stdout",
     "output_type": "stream",
     "text": [
      "x0  31.16581916809082 a 34.62220001220703 loss 0.14119354314583626\n"
     ]
    },
    {
     "name": "stderr",
     "output_type": "stream",
     "text": [
      " 51%|█████     | 51/100 [00:47<00:45,  1.08it/s]"
     ]
    },
    {
     "name": "stdout",
     "output_type": "stream",
     "text": [
      "x0  31.468786239624023 a 34.92285919189453 loss 0.1422854718218672\n"
     ]
    },
    {
     "name": "stderr",
     "output_type": "stream",
     "text": [
      " 61%|██████    | 61/100 [00:56<00:36,  1.08it/s]"
     ]
    },
    {
     "name": "stdout",
     "output_type": "stream",
     "text": [
      "x0  31.585094451904297 a 35.03827667236328 loss 0.14308594411456535\n"
     ]
    },
    {
     "name": "stderr",
     "output_type": "stream",
     "text": [
      " 71%|███████   | 71/100 [01:06<00:27,  1.07it/s]"
     ]
    },
    {
     "name": "stdout",
     "output_type": "stream",
     "text": [
      "x0  31.62917137145996 a 35.08201599121094 loss 0.14065976289734441\n"
     ]
    },
    {
     "name": "stderr",
     "output_type": "stream",
     "text": [
      " 81%|████████  | 81/100 [01:15<00:18,  1.05it/s]"
     ]
    },
    {
     "name": "stdout",
     "output_type": "stream",
     "text": [
      "x0  31.645700454711914 a 35.09841537475586 loss 0.1413995570485996\n"
     ]
    },
    {
     "name": "stderr",
     "output_type": "stream",
     "text": [
      " 91%|█████████ | 91/100 [01:25<00:09,  1.03s/it]"
     ]
    },
    {
     "name": "stdout",
     "output_type": "stream",
     "text": [
      "x0  31.65184783935547 a 35.10450744628906 loss 0.14213161050919462\n"
     ]
    },
    {
     "name": "stderr",
     "output_type": "stream",
     "text": [
      "100%|██████████| 100/100 [01:33<00:00,  1.07it/s]\n"
     ]
    },
    {
     "data": {
      "image/png": "[encoded data removed]",
      "text/plain": [
       "<Figure size 504x504 with 1 Axes>"
      ]
     },
     "metadata": {
      "needs_background": "light"
     },
     "output_type": "display_data"
    }
   ],
   "source": [
    "# @title Joint 3 Steps with sigmoid and adam and sampling\n",
    "\n",
    "from botorch.sampling.samplers import SobolQMCNormalSampler\n",
    "from botorch import settings\n",
    "\n",
    "\n",
    "def compute_ehig(x0, x1, x2, a):\n",
    "    \"\"\"\n",
    "    x0 to a: unconstraint optimization parameters\n",
    "    \"\"\"\n",
    "    with settings.propagate_grads(state=True):\n",
    "        x0 = torch.sigmoid(x0) * 0.2 + (prev_x - 0.1)\n",
    "        x1 = torch.sigmoid(x1) * 0.2 + (x0 - 0.1)\n",
    "        x2 = torch.sigmoid(x2) * 0.2 + (x1 - 0.1)\n",
    "        a = torch.sigmoid(a) * 0.2 + (x2 - 0.1)\n",
    "\n",
    "        ehigs = 0\n",
    "        p_y0_on_x0_D0 = model.posterior(x0)\n",
    "        sampler = SobolQMCNormalSampler(\n",
    "            num_samples=4, resample=False, collapse_batch_dims=True\n",
    "        )\n",
    "        sample_y0_on_x0_D0 = sampler(p_y0_on_x0_D0)\n",
    "\n",
    "        for ind_x1, y0_on_x0_D0 in enumerate(sample_y0_on_x0_D0):\n",
    "            p_f_on_D1 = model.condition_on_observations(x0, y0_on_x0_D0)\n",
    "            p_y1_on_x1_D1 = p_f_on_D1.posterior(x1[ind_x1, :])\n",
    "            sample_y1_on_x1_D1 = sampler(p_y1_on_x1_D1)\n",
    "\n",
    "            for ind_x2, y1_on_x1_D1 in enumerate(sample_y1_on_x1_D1):\n",
    "                p_f_on_D2 = p_f_on_D1.condition_on_observations(\n",
    "                    x1[ind_x1, :], y1_on_x1_D1\n",
    "                )\n",
    "                p_y2_on_x2_D2 = p_f_on_D2.posterior(x2[ind_x1, ind_x2, :])\n",
    "                sample_y2_on_x2_D2 = sampler(p_y2_on_x2_D2)\n",
    "\n",
    "                for ind_a, p_y2_on_x2_D2 in enumerate(sample_y2_on_x2_D2):\n",
    "                    p_f_on_D3 = p_f_on_D2.condition_on_observations(\n",
    "                        x2[ind_x1, ind_x2, :], p_y2_on_x2_D2\n",
    "                    )\n",
    "                    p_y3_a_D3 = p_f_on_D3.posterior(a[ind_x1, ind_x2, ind_a, :])\n",
    "\n",
    "                    ehig = p_y3_a_D3.mean\n",
    "                    ehigs = ehigs + ehig\n",
    "\n",
    "        ehig = ehigs / (4**3)\n",
    "    return x0, a, ehig.squeeze()\n",
    "\n",
    "\n",
    "prev_x = 0.2\n",
    "temp = []\n",
    "\n",
    "x0 = (torch.rand(1) * 10).requires_grad_(True)\n",
    "x1 = (torch.rand(4, 1) * 10).requires_grad_(True)\n",
    "x2 = (torch.rand(4, 4, 1) * 10).requires_grad_(True)\n",
    "a = (torch.rand(4, 4, 4, 1) * 10).requires_grad_(True)\n",
    "\n",
    "optimizer = optim.Adam([x0, x1, x2, a], lr=5)\n",
    "for epoch in tqdm(range(100)):\n",
    "    optimizer.zero_grad()\n",
    "    x0_, a_, ehig = compute_ehig(x0, x1, x2, a)\n",
    "    temp.append([x0_, a_, ehig])\n",
    "    ehig.backward(retain_graph=True)\n",
    "    optimizer.step()\n",
    "\n",
    "    if epoch % 10 == 0:\n",
    "        print(\"x0 \", x0.item(), \"a\", a[0, 0, 0].item(), \"loss\", ehig.item())\n",
    "\n",
    "# for x0 in tqdm(torch.linspace(-10, 10, 2)):\n",
    "#     x0 = x0.reshape(1)\n",
    "#     x0_, a_, ehig = compute_ehig(x0, x1, x2, a)\n",
    "#     print(ehig)\n",
    "\n",
    "tmp = []\n",
    "for i in range(len(temp)):\n",
    "    tmp.append([temp[i][0], temp[i][1][0, 0, 0], temp[i][2]])\n",
    "\n",
    "tmp = torch.tensor(tmp)\n",
    "best = torch.argmin(tmp, dim=0)[2].item()\n",
    "best_x, best_a, best_hes = tmp[best].numpy().tolist()\n",
    "\n",
    "plt.figure(figsize=(7, 7))\n",
    "ground_truth(draw=True)\n",
    "\n",
    "plt.vlines(prev_x, -1, 1, color=\"black\", label=\"current location\")\n",
    "plt.vlines(prev_x - 0.1, -1, 1, color=\"black\", linestyle=\"--\")\n",
    "plt.vlines(prev_x + 0.1, -1, 1, color=\"black\", linestyle=\"--\")\n",
    "\n",
    "plt.vlines(best_x, -1, 1, color=\"red\", label=\"optimal query\")\n",
    "plt.vlines(best_a, -1, 1, color=\"blue\", label=\"optimal action\")\n",
    "\n",
    "plt.plot(train_x.cpu().numpy(), train_y.cpu().numpy(), \"k*\")\n",
    "\n",
    "# compute posterior\n",
    "test_x = torch.linspace(0, 1, 100)\n",
    "posterior = model.posterior(test_x)\n",
    "test_y = posterior.mean\n",
    "lower, upper = posterior.mvn.confidence_region()\n",
    "\n",
    "plt.plot(\n",
    "    test_x.cpu().detach().numpy(),\n",
    "    test_y.cpu().detach().numpy(),\n",
    "    \"green\",\n",
    "    label=\"Posterior mean\",\n",
    ")\n",
    "\n",
    "plt.fill_between(\n",
    "    test_x.cpu().detach().numpy(),\n",
    "    lower.cpu().detach().numpy(),\n",
    "    upper.cpu().detach().numpy(),\n",
    "    alpha=0.25,\n",
    ")\n",
    "\n",
    "plt.tight_layout()\n",
    "plt.ylim(-1, 1)\n",
    "plt.legend()\n",
    "\n",
    "plt.show()"
   ]
  },
  {
   "cell_type": "code",
   "execution_count": null,
   "metadata": {
    "cellView": "form",
    "colab": {
     "base_uri": "https://localhost:8080/",
     "height": 708
    },
    "executionInfo": {
     "elapsed": 310551,
     "status": "ok",
     "timestamp": 1664741775098,
     "user": {
      "displayName": "Sang Truong",
      "userId": "02872493733615210272"
     },
     "user_tz": 420
    },
    "id": "hIb-aNUzcjYD",
    "outputId": "17e9ad5e-b44d-426c-a015-92b4d92365e6"
   },
   "outputs": [
    {
     "name": "stderr",
     "output_type": "stream",
     "text": [
      "  5%|▌         | 1/20 [00:16<05:20, 16.88s/it]"
     ]
    },
    {
     "name": "stdout",
     "output_type": "stream",
     "text": [
      "x0  4.42362117767334 a 4.269712448120117 loss -0.5410947807019745\n"
     ]
    },
    {
     "name": "stderr",
     "output_type": "stream",
     "text": [
      " 15%|█▌        | 3/20 [00:47<04:23, 15.51s/it]"
     ]
    },
    {
     "name": "stdout",
     "output_type": "stream",
     "text": [
      "x0  7.003201007843018 a 7.779956817626953 loss -0.695310621794903\n"
     ]
    },
    {
     "name": "stderr",
     "output_type": "stream",
     "text": [
      " 25%|██▌       | 5/20 [01:17<03:48, 15.24s/it]"
     ]
    },
    {
     "name": "stdout",
     "output_type": "stream",
     "text": [
      "x0  8.7289457321167 a 10.144371032714844 loss -0.6788471655482043\n"
     ]
    },
    {
     "name": "stderr",
     "output_type": "stream",
     "text": [
      " 35%|███▌      | 7/20 [01:47<03:18, 15.26s/it]"
     ]
    },
    {
     "name": "stdout",
     "output_type": "stream",
     "text": [
      "x0  10.008357048034668 a 11.896612167358398 loss -0.7416107516796919\n"
     ]
    },
    {
     "name": "stderr",
     "output_type": "stream",
     "text": [
      " 45%|████▌     | 9/20 [02:17<02:45, 15.04s/it]"
     ]
    },
    {
     "name": "stdout",
     "output_type": "stream",
     "text": [
      "x0  11.001667022705078 a 13.256607055664062 loss -0.692721346353932\n"
     ]
    },
    {
     "name": "stderr",
     "output_type": "stream",
     "text": [
      " 55%|█████▌    | 11/20 [02:47<02:15, 15.07s/it]"
     ]
    },
    {
     "name": "stdout",
     "output_type": "stream",
     "text": [
      "x0  11.792378425598145 a 14.338812828063965 loss -0.685726285776967\n"
     ]
    },
    {
     "name": "stderr",
     "output_type": "stream",
     "text": [
      " 65%|██████▌   | 13/20 [03:17<01:44, 14.95s/it]"
     ]
    },
    {
     "name": "stdout",
     "output_type": "stream",
     "text": [
      "x0  12.431427955627441 a 15.213056564331055 loss -0.7455889814717159\n"
     ]
    },
    {
     "name": "stderr",
     "output_type": "stream",
     "text": [
      " 75%|███████▌  | 15/20 [03:52<01:19, 15.96s/it]"
     ]
    },
    {
     "name": "stdout",
     "output_type": "stream",
     "text": [
      "x0  12.952912330627441 a 15.92621898651123 loss -0.7375135519387803\n"
     ]
    },
    {
     "name": "stderr",
     "output_type": "stream",
     "text": [
      " 85%|████████▌ | 17/20 [04:23<00:47, 15.97s/it]"
     ]
    },
    {
     "name": "stdout",
     "output_type": "stream",
     "text": [
      "x0  13.3811616897583 a 16.51167869567871 loss -0.6865633850326681\n"
     ]
    },
    {
     "name": "stderr",
     "output_type": "stream",
     "text": [
      " 95%|█████████▌| 19/20 [04:53<00:15, 15.38s/it]"
     ]
    },
    {
     "name": "stdout",
     "output_type": "stream",
     "text": [
      "x0  13.734334945678711 a 16.99435043334961 loss -0.6977510390904231\n"
     ]
    },
    {
     "name": "stderr",
     "output_type": "stream",
     "text": [
      "100%|██████████| 20/20 [05:09<00:00, 15.48s/it]\n"
     ]
    },
    {
     "data": {
      "image/png": "[encoded data removed]",
      "text/plain": [
       "<Figure size 504x504 with 1 Axes>"
      ]
     },
     "metadata": {
      "needs_background": "light"
     },
     "output_type": "display_data"
    }
   ],
   "source": [
    "# @title Joint 5 Steps with sigmoid and adam and sampling\n",
    "\n",
    "from botorch.sampling.samplers import SobolQMCNormalSampler\n",
    "from botorch import settings\n",
    "\n",
    "\n",
    "def compute_ehig(x0, x1, x2, x3, x4, a):\n",
    "    \"\"\"\n",
    "    x0 to a: unconstraint optimization parameters\n",
    "    \"\"\"\n",
    "    with settings.propagate_grads(state=True):\n",
    "        x0 = torch.sigmoid(x0) * 0.2 + (prev_x - 0.1)\n",
    "        x1 = torch.sigmoid(x1) * 0.2 + (x0 - 0.1)\n",
    "        x2 = torch.sigmoid(x2) * 0.2 + (x1 - 0.1)\n",
    "        x3 = torch.sigmoid(x3) * 0.2 + (x2 - 0.1)\n",
    "        x4 = torch.sigmoid(x4) * 0.2 + (x3 - 0.1)\n",
    "        a = torch.sigmoid(a) * 0.2 + (x4 - 0.1)\n",
    "\n",
    "        ehigs = 0\n",
    "        p_y0_on_x0_D0 = model.posterior(x0)\n",
    "        sampler = SobolQMCNormalSampler(\n",
    "            num_samples=4, resample=False, collapse_batch_dims=True\n",
    "        )\n",
    "        sample_y0_on_x0_D0 = sampler(p_y0_on_x0_D0)\n",
    "\n",
    "        for ind_x1, y0_on_x0_D0 in enumerate(sample_y0_on_x0_D0):\n",
    "            p_f_on_D1 = model.condition_on_observations(x0, y0_on_x0_D0)\n",
    "            p_y1_on_x1_D1 = p_f_on_D1.posterior(x1[ind_x1, :])\n",
    "            sample_y1_on_x1_D1 = sampler(p_y1_on_x1_D1)\n",
    "\n",
    "            for ind_x2, y1_on_x1_D1 in enumerate(sample_y1_on_x1_D1):\n",
    "                p_f_on_D2 = p_f_on_D1.condition_on_observations(\n",
    "                    x1[ind_x1, :], y1_on_x1_D1\n",
    "                )\n",
    "                p_y2_on_x2_D2 = p_f_on_D2.posterior(x2[ind_x1, ind_x2, :])\n",
    "                sample_y2_on_x2_D2 = sampler(p_y2_on_x2_D2)\n",
    "\n",
    "                for ind_x3, y2_on_x2_D2 in enumerate(sample_y2_on_x2_D2):\n",
    "                    p_f_on_D3 = p_f_on_D2.condition_on_observations(\n",
    "                        x2[ind_x1, ind_x2, :], y2_on_x2_D2\n",
    "                    )\n",
    "                    p_y3_x3_D3 = p_f_on_D3.posterior(x3[ind_x1, ind_x2, ind_x3, :])\n",
    "                    sample_y3_x3_D3 = sampler(p_y3_x3_D3)\n",
    "\n",
    "                    for ind_x4, y3_on_x3_D3 in enumerate(sample_y3_x3_D3):\n",
    "                        p_f_on_D4 = p_f_on_D3.condition_on_observations(\n",
    "                            x3[ind_x1, ind_x2, ind_x3, :], y3_on_x3_D3\n",
    "                        )\n",
    "                        p_y4_on_x4_D4 = p_f_on_D4.posterior(\n",
    "                            x4[ind_x1, ind_x2, ind_x3, ind_x4, :]\n",
    "                        )\n",
    "                        sample_y4_on_x4_D4 = sampler(p_y4_on_x4_D4)\n",
    "\n",
    "                        for ind_a, y4_on_x4_D4 in enumerate(sample_y4_on_x4_D4):\n",
    "                            p_f_on_D5 = p_f_on_D4.condition_on_observations(\n",
    "                                x4[ind_x1, ind_x2, ind_x3, ind_x4, :], y4_on_x4_D4\n",
    "                            )\n",
    "                            p_y5_on_a_D5 = p_f_on_D5.posterior(\n",
    "                                a[ind_x1, ind_x2, ind_x3, ind_x4, ind_a, :]\n",
    "                            )\n",
    "\n",
    "                            ehig = p_y5_on_a_D5.mean\n",
    "                            ehigs = ehigs + ehig\n",
    "\n",
    "        ehig = ehigs / (4**5)\n",
    "    return x0, a, ehig.squeeze()\n",
    "\n",
    "\n",
    "prev_x = 0.2\n",
    "temp = []\n",
    "\n",
    "x0 = (torch.rand(1) * 10).requires_grad_(True)\n",
    "x1 = (torch.rand(4, 1) * 10).requires_grad_(True)\n",
    "x2 = (torch.rand(4, 4, 1) * 10).requires_grad_(True)\n",
    "x3 = (torch.rand(4, 4, 4, 1) * 10).requires_grad_(True)\n",
    "x4 = (torch.rand(4, 4, 4, 4, 1) * 10).requires_grad_(True)\n",
    "a = (torch.rand(4, 4, 4, 4, 4, 1) * 10).requires_grad_(True)\n",
    "\n",
    "optimizer = optim.Adam([x0, x1, x2, x3, x4, a], lr=2)\n",
    "for epoch in tqdm(range(20)):\n",
    "    optimizer.zero_grad()\n",
    "    x0_, a_, ehig = compute_ehig(x0, x1, x2, x3, x4, a)\n",
    "    temp.append([x0_, a_, ehig])\n",
    "    ehig.backward(retain_graph=True)\n",
    "    optimizer.step()\n",
    "\n",
    "    if epoch % 2 == 0:\n",
    "        print(\"x0 \", x0.item(), \"a\", a[0, 0, 0, 0, 0].item(), \"loss\", ehig.item())\n",
    "\n",
    "# for x0 in tqdm(torch.linspace(-10, 10, 2)):\n",
    "#     x0 = x0.reshape(1)\n",
    "#     x0_, a_, ehig = compute_ehig(x0, x1, x2, a)\n",
    "#     print(ehig)\n",
    "\n",
    "tmp = []\n",
    "for i in range(len(temp)):\n",
    "    tmp.append([temp[i][0], temp[i][1][0, 0, 0, 0, 0], temp[i][2]])\n",
    "\n",
    "tmp = torch.tensor(tmp)\n",
    "best = torch.argmin(tmp, dim=0)[2].item()\n",
    "best_x, best_a, best_hes = tmp[best].numpy().tolist()\n",
    "\n",
    "plt.figure(figsize=(7, 7))\n",
    "ground_truth(draw=True)\n",
    "\n",
    "plt.vlines(prev_x, -1, 1, color=\"black\", label=\"current location\")\n",
    "plt.vlines(prev_x - 0.1, -1, 1, color=\"black\", linestyle=\"--\")\n",
    "plt.vlines(prev_x + 0.1, -1, 1, color=\"black\", linestyle=\"--\")\n",
    "\n",
    "plt.vlines(best_x, -1, 1, color=\"red\", label=\"optimal query\")\n",
    "plt.vlines(best_a, -1, 1, color=\"blue\", label=\"optimal action\")\n",
    "\n",
    "plt.plot(train_x.cpu().numpy(), train_y.cpu().numpy(), \"k*\")\n",
    "\n",
    "# compute posterior\n",
    "test_x = torch.linspace(0, 1, 100)\n",
    "posterior = model.posterior(test_x)\n",
    "test_y = posterior.mean\n",
    "lower, upper = posterior.mvn.confidence_region()\n",
    "\n",
    "plt.plot(\n",
    "    test_x.cpu().detach().numpy(),\n",
    "    test_y.cpu().detach().numpy(),\n",
    "    \"green\",\n",
    "    label=\"Posterior mean\",\n",
    ")\n",
    "\n",
    "plt.fill_between(\n",
    "    test_x.cpu().detach().numpy(),\n",
    "    lower.cpu().detach().numpy(),\n",
    "    upper.cpu().detach().numpy(),\n",
    "    alpha=0.25,\n",
    ")\n",
    "\n",
    "plt.tight_layout()\n",
    "plt.ylim(-1, 1)\n",
    "plt.legend()\n",
    "\n",
    "plt.show()"
   ]
  },
  {
   "cell_type": "code",
   "execution_count": null,
   "metadata": {
    "cellView": "form",
    "colab": {
     "base_uri": "https://localhost:8080/",
     "height": 708
    },
    "executionInfo": {
     "elapsed": 329983,
     "status": "ok",
     "timestamp": 1664742133986,
     "user": {
      "displayName": "Sang Truong",
      "userId": "02872493733615210272"
     },
     "user_tz": 420
    },
    "id": "HKdI-AwB1icx",
    "outputId": "843c4777-5bdc-49d1-94a0-6416a722f36c"
   },
   "outputs": [
    {
     "name": "stderr",
     "output_type": "stream",
     "text": [
      "  5%|▌         | 1/20 [00:20<06:21, 20.06s/it]"
     ]
    },
    {
     "name": "stdout",
     "output_type": "stream",
     "text": [
      "x0  1.0486482381820679 a 5.2529215812683105 loss -0.17437350311601277\n"
     ]
    },
    {
     "name": "stderr",
     "output_type": "stream",
     "text": [
      " 15%|█▌        | 3/20 [00:52<04:50, 17.06s/it]"
     ]
    },
    {
     "name": "stdout",
     "output_type": "stream",
     "text": [
      "x0  2.0117383003234863 a 6.168497562408447 loss -0.5906203991086012\n"
     ]
    },
    {
     "name": "stderr",
     "output_type": "stream",
     "text": [
      " 25%|██▌       | 5/20 [01:25<04:09, 16.60s/it]"
     ]
    },
    {
     "name": "stdout",
     "output_type": "stream",
     "text": [
      "x0  2.815899610519409 a 6.813582897186279 loss -0.6409216580410962\n"
     ]
    },
    {
     "name": "stderr",
     "output_type": "stream",
     "text": [
      " 35%|███▌      | 7/20 [01:57<03:32, 16.35s/it]"
     ]
    },
    {
     "name": "stdout",
     "output_type": "stream",
     "text": [
      "x0  3.464965581893921 a 7.360840797424316 loss -0.6806118649520252\n"
     ]
    },
    {
     "name": "stderr",
     "output_type": "stream",
     "text": [
      " 45%|████▌     | 9/20 [02:29<02:59, 16.28s/it]"
     ]
    },
    {
     "name": "stdout",
     "output_type": "stream",
     "text": [
      "x0  3.9919216632843018 a 7.804483890533447 loss -0.6483973250214178\n"
     ]
    },
    {
     "name": "stderr",
     "output_type": "stream",
     "text": [
      " 55%|█████▌    | 11/20 [03:02<02:26, 16.30s/it]"
     ]
    },
    {
     "name": "stdout",
     "output_type": "stream",
     "text": [
      "x0  4.421297073364258 a 8.149369239807129 loss -0.6978029521677973\n"
     ]
    },
    {
     "name": "stderr",
     "output_type": "stream",
     "text": [
      " 65%|██████▌   | 13/20 [03:34<01:53, 16.24s/it]"
     ]
    },
    {
     "name": "stdout",
     "output_type": "stream",
     "text": [
      "x0  4.776041030883789 a 8.434184074401855 loss -0.7000256799735124\n"
     ]
    },
    {
     "name": "stderr",
     "output_type": "stream",
     "text": [
      " 75%|███████▌  | 15/20 [04:07<01:21, 16.27s/it]"
     ]
    },
    {
     "name": "stdout",
     "output_type": "stream",
     "text": [
      "x0  5.071737289428711 a 8.67286205291748 loss -0.7509360505243766\n"
     ]
    },
    {
     "name": "stderr",
     "output_type": "stream",
     "text": [
      " 85%|████████▌ | 17/20 [04:40<00:48, 16.27s/it]"
     ]
    },
    {
     "name": "stdout",
     "output_type": "stream",
     "text": [
      "x0  5.31919002532959 a 8.877298355102539 loss -0.7076227614247814\n"
     ]
    },
    {
     "name": "stderr",
     "output_type": "stream",
     "text": [
      " 95%|█████████▌| 19/20 [05:12<00:16, 16.27s/it]"
     ]
    },
    {
     "name": "stdout",
     "output_type": "stream",
     "text": [
      "x0  5.526111602783203 a 9.05202865600586 loss -0.7692696757458544\n"
     ]
    },
    {
     "name": "stderr",
     "output_type": "stream",
     "text": [
      "100%|██████████| 20/20 [05:29<00:00, 16.45s/it]\n"
     ]
    },
    {
     "data": {
      "image/png": "[encoded data removed]",
      "text/plain": [
       "<Figure size 504x504 with 1 Axes>"
      ]
     },
     "metadata": {
      "needs_background": "light"
     },
     "output_type": "display_data"
    }
   ],
   "source": [
    "# @title Joint 5 Steps with sigmoid and adam and sampling -- parallel\n",
    "\n",
    "from botorch.sampling.samplers import SobolQMCNormalSampler\n",
    "from botorch import settings\n",
    "import itertools\n",
    "\n",
    "\n",
    "def compute_ehig(xi, horizon=5, num_samples=4):\n",
    "    with settings.propagate_grads(state=True):\n",
    "        for h in range(0, horizon + 1):\n",
    "            pvs_x = xi[h - 1] if h > 0 else prev_x\n",
    "            xi[h] = torch.sigmoid(xi[h]) * 0.2 + (pvs_x - 0.1)\n",
    "\n",
    "        ehigs = 0\n",
    "        sample_yi_on_xi_Di = {}\n",
    "        prev_ind = np.ones(horizon) * -1\n",
    "        p_f_on_Di = {}\n",
    "        p_f_on_Di[0] = model\n",
    "        sampler = SobolQMCNormalSampler(\n",
    "            num_samples=num_samples, resample=False, collapse_batch_dims=True\n",
    "        )\n",
    "\n",
    "        p_y0_on_x0_D0 = model.posterior(xi[0])\n",
    "        sample_yi_on_xi_Di[0] = sampler(p_y0_on_x0_D0)\n",
    "\n",
    "        for ind in itertools.product(range(num_samples), repeat=horizon):\n",
    "            equal_bool = np.equal(ind, prev_ind)\n",
    "            prev_ind = ind\n",
    "\n",
    "            for i in range(horizon):\n",
    "                if not equal_bool[i]:\n",
    "                    p_f_on_Di[i + 1] = p_f_on_Di[i].condition_on_observations(\n",
    "                        xi[i][ind[:i]], sample_yi_on_xi_Di[i][ind[i]]\n",
    "                    )\n",
    "                    sample_yi_on_xi_Di[i + 1] = sampler(\n",
    "                        p_f_on_Di[i + 1].posterior(xi[i + 1][ind[: i + 1]])\n",
    "                    )\n",
    "\n",
    "            ehig = sample_yi_on_xi_Di[horizon].mean()\n",
    "            ehigs = ehigs + ehig\n",
    "\n",
    "        ehig = ehigs / (num_samples**horizon)\n",
    "\n",
    "        return xi[0], xi[-1], ehig.squeeze()\n",
    "\n",
    "\n",
    "prev_x = 0.2\n",
    "temp = []\n",
    "\n",
    "xi = []\n",
    "# xi[-1] = prev_x\n",
    "dim_xi = [1]\n",
    "horizon = 5  # 7\n",
    "for h in range(horizon + 1):\n",
    "    xi.append((torch.rand(dim_xi) * 10).requires_grad_(True))\n",
    "    dim_xi.insert(0, 4)\n",
    "\n",
    "optimizer = optim.Adam(xi, lr=0.5)\n",
    "for epoch in tqdm(range(20)):\n",
    "    optimizer.zero_grad()\n",
    "\n",
    "    xi_in = [element_xi.clone() for element_xi in xi]\n",
    "    x0_, a_, ehig = compute_ehig(xi_in, horizon=horizon)\n",
    "    temp.append([x0_.detach(), a_.detach(), ehig.detach()])\n",
    "\n",
    "    ehig.backward(retain_graph=True)\n",
    "    optimizer.step()\n",
    "\n",
    "    if epoch % 2 == 0:\n",
    "        print(\n",
    "            \"x0 \",\n",
    "            xi[0].item(),\n",
    "            \"a\",\n",
    "            xi[horizon][tuple([0] * horizon)].item(),\n",
    "            \"loss\",\n",
    "            ehig.item(),\n",
    "        )\n",
    "\n",
    "tmp = []\n",
    "for i in range(len(temp)):\n",
    "    tmp.append([temp[i][0], temp[i][1][tuple([0] * horizon)], temp[i][2]])\n",
    "\n",
    "tmp = torch.tensor(tmp)\n",
    "best = torch.argmin(tmp, dim=0)[2].item()\n",
    "best_x, best_a, best_hes = tmp[best].numpy().tolist()\n",
    "\n",
    "plt.figure(figsize=(7, 7))\n",
    "ground_truth(draw=True)\n",
    "\n",
    "plt.vlines(prev_x, -1, 1, color=\"black\", label=\"current location\")\n",
    "plt.vlines(prev_x - 0.1, -1, 1, color=\"black\", linestyle=\"--\")\n",
    "plt.vlines(prev_x + 0.1, -1, 1, color=\"black\", linestyle=\"--\")\n",
    "\n",
    "plt.vlines(best_x, -1, 1, color=\"red\", label=\"optimal query\")\n",
    "plt.vlines(best_a, -1, 1, color=\"blue\", label=\"optimal action\")\n",
    "\n",
    "plt.plot(train_x.cpu().numpy(), train_y.cpu().numpy(), \"k*\")\n",
    "\n",
    "# compute posterior\n",
    "test_x = torch.linspace(0, 1, 100)\n",
    "posterior = model.posterior(test_x)\n",
    "test_y = posterior.mean\n",
    "lower, upper = posterior.mvn.confidence_region()\n",
    "\n",
    "plt.plot(\n",
    "    test_x.cpu().detach().numpy(),\n",
    "    test_y.cpu().detach().numpy(),\n",
    "    \"green\",\n",
    "    label=\"Posterior mean\",\n",
    ")\n",
    "\n",
    "plt.fill_between(\n",
    "    test_x.cpu().detach().numpy(),\n",
    "    lower.cpu().detach().numpy(),\n",
    "    upper.cpu().detach().numpy(),\n",
    "    alpha=0.25,\n",
    ")\n",
    "\n",
    "plt.tight_layout()\n",
    "plt.ylim(-1, 1)\n",
    "plt.legend()\n",
    "\n",
    "plt.show()"
   ]
  },
  {
   "cell_type": "code",
   "execution_count": null,
   "metadata": {
    "colab": {
     "base_uri": "https://localhost:8080/",
     "height": 881
    },
    "executionInfo": {
     "elapsed": 104180,
     "status": "ok",
     "timestamp": 1664742238144,
     "user": {
      "displayName": "Sang Truong",
      "userId": "02872493733615210272"
     },
     "user_tz": 420
    },
    "id": "lbv6gVrQEoYF",
    "outputId": "283b7900-f256-4163-a1bf-a9d28a037430"
   },
   "outputs": [
    {
     "name": "stderr",
     "output_type": "stream",
     "text": [
      "  2%|▎         | 1/40 [00:02<01:43,  2.66s/it]"
     ]
    },
    {
     "name": "stdout",
     "output_type": "stream",
     "text": [
      "x0  0.2972526252269745 a 1.013552188873291 loss -0.4677758567437102\n"
     ]
    },
    {
     "name": "stderr",
     "output_type": "stream",
     "text": [
      "  8%|▊         | 3/40 [00:07<01:37,  2.62s/it]"
     ]
    },
    {
     "name": "stdout",
     "output_type": "stream",
     "text": [
      "x0  0.29281094670295715 a 0.8309714198112488 loss -0.6995036838174381\n"
     ]
    },
    {
     "name": "stderr",
     "output_type": "stream",
     "text": [
      " 12%|█▎        | 5/40 [00:12<01:29,  2.55s/it]"
     ]
    },
    {
     "name": "stdout",
     "output_type": "stream",
     "text": [
      "x0  0.291335791349411 a 0.7554004192352295 loss -0.6560586365767093\n"
     ]
    },
    {
     "name": "stderr",
     "output_type": "stream",
     "text": [
      " 18%|█▊        | 7/40 [00:18<01:24,  2.55s/it]"
     ]
    },
    {
     "name": "stdout",
     "output_type": "stream",
     "text": [
      "x0  0.295048326253891 a 0.7997264862060547 loss -0.8076017352760613\n"
     ]
    },
    {
     "name": "stderr",
     "output_type": "stream",
     "text": [
      " 22%|██▎       | 9/40 [00:23<01:20,  2.59s/it]"
     ]
    },
    {
     "name": "stdout",
     "output_type": "stream",
     "text": [
      "x0  0.2972584068775177 a 0.8620845079421997 loss -0.7751353607570862\n"
     ]
    },
    {
     "name": "stderr",
     "output_type": "stream",
     "text": [
      " 28%|██▊       | 11/40 [00:28<01:14,  2.56s/it]"
     ]
    },
    {
     "name": "stdout",
     "output_type": "stream",
     "text": [
      "x0  0.29823577404022217 a 0.8921597003936768 loss -0.4682130102466937\n"
     ]
    },
    {
     "name": "stderr",
     "output_type": "stream",
     "text": [
      " 32%|███▎      | 13/40 [00:33<01:09,  2.57s/it]"
     ]
    },
    {
     "name": "stdout",
     "output_type": "stream",
     "text": [
      "x0  0.2987290024757385 a 0.9051167368888855 loss -0.8420699857972035\n"
     ]
    },
    {
     "name": "stderr",
     "output_type": "stream",
     "text": [
      " 38%|███▊      | 15/40 [00:38<01:04,  2.59s/it]"
     ]
    },
    {
     "name": "stdout",
     "output_type": "stream",
     "text": [
      "x0  0.2989731729030609 a 0.8772347569465637 loss -0.7336742682123428\n"
     ]
    },
    {
     "name": "stderr",
     "output_type": "stream",
     "text": [
      " 42%|████▎     | 17/40 [00:43<00:58,  2.56s/it]"
     ]
    },
    {
     "name": "stdout",
     "output_type": "stream",
     "text": [
      "x0  0.29911959171295166 a 0.8402031660079956 loss -0.6605554665394039\n"
     ]
    },
    {
     "name": "stderr",
     "output_type": "stream",
     "text": [
      " 48%|████▊     | 19/40 [00:48<00:53,  2.57s/it]"
     ]
    },
    {
     "name": "stdout",
     "output_type": "stream",
     "text": [
      "x0  0.2992231547832489 a 0.8132305145263672 loss -0.7892730169888624\n"
     ]
    },
    {
     "name": "stderr",
     "output_type": "stream",
     "text": [
      " 52%|█████▎    | 21/40 [00:54<00:49,  2.59s/it]"
     ]
    },
    {
     "name": "stdout",
     "output_type": "stream",
     "text": [
      "x0  0.29931068420410156 a 0.8034871220588684 loss -0.5241967249457984\n"
     ]
    },
    {
     "name": "stderr",
     "output_type": "stream",
     "text": [
      " 57%|█████▊    | 23/40 [00:59<00:43,  2.56s/it]"
     ]
    },
    {
     "name": "stdout",
     "output_type": "stream",
     "text": [
      "x0  0.29938316345214844 a 0.8021059036254883 loss -0.5655912014308815\n"
     ]
    },
    {
     "name": "stderr",
     "output_type": "stream",
     "text": [
      " 62%|██████▎   | 25/40 [01:05<00:40,  2.72s/it]"
     ]
    },
    {
     "name": "stdout",
     "output_type": "stream",
     "text": [
      "x0  0.299445241689682 a 0.8095161318778992 loss -0.7931636753982665\n"
     ]
    },
    {
     "name": "stderr",
     "output_type": "stream",
     "text": [
      " 68%|██████▊   | 27/40 [01:10<00:34,  2.67s/it]"
     ]
    },
    {
     "name": "stdout",
     "output_type": "stream",
     "text": [
      "x0  0.2994997799396515 a 0.8282681107521057 loss -0.5842051584784801\n"
     ]
    },
    {
     "name": "stderr",
     "output_type": "stream",
     "text": [
      " 72%|███████▎  | 29/40 [01:15<00:28,  2.59s/it]"
     ]
    },
    {
     "name": "stdout",
     "output_type": "stream",
     "text": [
      "x0  0.2995423376560211 a 0.8472381234169006 loss -0.9051855219241086\n"
     ]
    },
    {
     "name": "stderr",
     "output_type": "stream",
     "text": [
      " 78%|███████▊  | 31/40 [01:20<00:23,  2.61s/it]"
     ]
    },
    {
     "name": "stdout",
     "output_type": "stream",
     "text": [
      "x0  0.2995741069316864 a 0.8616682887077332 loss -0.6780988450874755\n"
     ]
    },
    {
     "name": "stderr",
     "output_type": "stream",
     "text": [
      " 82%|████████▎ | 33/40 [01:25<00:18,  2.61s/it]"
     ]
    },
    {
     "name": "stdout",
     "output_type": "stream",
     "text": [
      "x0  0.29959678649902344 a 0.8686681985855103 loss -0.6033359278086169\n"
     ]
    },
    {
     "name": "stderr",
     "output_type": "stream",
     "text": [
      " 88%|████████▊ | 35/40 [01:30<00:12,  2.58s/it]"
     ]
    },
    {
     "name": "stdout",
     "output_type": "stream",
     "text": [
      "x0  0.2996128797531128 a 0.8676807284355164 loss -0.5843286079827731\n"
     ]
    },
    {
     "name": "stderr",
     "output_type": "stream",
     "text": [
      " 92%|█████████▎| 37/40 [01:36<00:07,  2.58s/it]"
     ]
    },
    {
     "name": "stdout",
     "output_type": "stream",
     "text": [
      "x0  0.2996242344379425 a 0.861886203289032 loss -0.5536483388479915\n"
     ]
    },
    {
     "name": "stderr",
     "output_type": "stream",
     "text": [
      " 98%|█████████▊| 39/40 [01:41<00:02,  2.56s/it]"
     ]
    },
    {
     "name": "stdout",
     "output_type": "stream",
     "text": [
      "x0  0.29963234066963196 a 0.8548970222473145 loss -0.6518741356823232\n"
     ]
    },
    {
     "name": "stderr",
     "output_type": "stream",
     "text": [
      "100%|██████████| 40/40 [01:43<00:00,  2.60s/it]\n"
     ]
    },
    {
     "data": {
      "image/png": "[encoded data removed]",
      "text/plain": [
       "<Figure size 504x504 with 1 Axes>"
      ]
     },
     "metadata": {
      "needs_background": "light"
     },
     "output_type": "display_data"
    }
   ],
   "source": [
    "# @title Joint 10 Steps with sigmoid and adam and sampling and variational\n",
    "\n",
    "from botorch.sampling.samplers import SobolQMCNormalSampler\n",
    "from botorch import settings\n",
    "import itertools\n",
    "\n",
    "\n",
    "def compute_ehig(xi, horizon=5, num_samples=4):\n",
    "    with settings.propagate_grads(state=True):\n",
    "        for h in range(0, horizon + 1):\n",
    "            pvs_x = xi[h - 1] if h > 0 else prev_x\n",
    "            xi[h] = torch.sigmoid(xi[h]) * 0.2 + (pvs_x - 0.1)\n",
    "\n",
    "        ehigs = 0\n",
    "        sample_yi_on_xi_Di = {}\n",
    "        prev_ind = np.ones(horizon) * -1\n",
    "        p_f_on_Di = {}\n",
    "        p_f_on_Di[0] = model\n",
    "        sampler = SobolQMCNormalSampler(\n",
    "            num_samples=num_samples, resample=False, collapse_batch_dims=True\n",
    "        )\n",
    "\n",
    "        p_y0_on_x0_D0 = model.posterior(xi[0])\n",
    "        sample_yi_on_xi_Di[0] = sampler(p_y0_on_x0_D0)\n",
    "\n",
    "        for ind in itertools.product(\n",
    "            range(4),\n",
    "            range(3),\n",
    "            range(2),\n",
    "        ):\n",
    "            # range(num_samples), repeat=horizon):\n",
    "\n",
    "            ind = ind + tuple([0] * (horizon - len(ind)))\n",
    "\n",
    "            equal_bool = np.equal(ind, prev_ind)\n",
    "\n",
    "            # finding the first false\n",
    "            comp_ind = np.argmin(equal_bool)\n",
    "\n",
    "            prev_ind = ind\n",
    "\n",
    "            for i in range(horizon):\n",
    "                if i >= comp_ind:\n",
    "                    p_f_on_Di[i + 1] = p_f_on_Di[i].condition_on_observations(\n",
    "                        xi[i], sample_yi_on_xi_Di[i][ind[i]]  # [ind[:i]],\n",
    "                    )\n",
    "                    sample_yi_on_xi_Di[i + 1] = sampler(\n",
    "                        p_f_on_Di[i + 1].posterior(xi[i + 1])\n",
    "                    )  # [ind[:i+1]]))\n",
    "\n",
    "            ehig = sample_yi_on_xi_Di[horizon].mean()\n",
    "            ehigs = ehigs + ehig\n",
    "\n",
    "        ehig = ehigs / (4 * 3 * 2)\n",
    "\n",
    "        return xi, ehig.squeeze()\n",
    "\n",
    "\n",
    "prev_x = 0.2\n",
    "temp = []\n",
    "\n",
    "xi = []\n",
    "dim_xi = [1]\n",
    "horizon = 10\n",
    "num_samples = 4\n",
    "for h in range(horizon + 1):\n",
    "    xi.append((torch.rand(dim_xi) * 10).requires_grad_(True))\n",
    "    # dim_xi.insert(0, num_samples)\n",
    "\n",
    "optimizer = optim.Adam(xi, lr=0.5)\n",
    "for epoch in tqdm(range(40)):\n",
    "    optimizer.zero_grad()\n",
    "\n",
    "    xi_in = [element_xi.clone() for element_xi in xi]\n",
    "    xi_out, ehig = compute_ehig(xi_in, horizon=horizon, num_samples=num_samples)\n",
    "    ehig.backward(retain_graph=True)\n",
    "    optimizer.step()\n",
    "    temp.append([xi_out[i].detach() for i in range(horizon + 1)] + [ehig.detach()])\n",
    "\n",
    "    if epoch % 2 == 0:\n",
    "        print(\n",
    "            \"x0 \",\n",
    "            xi_out[0].item(),\n",
    "            \"a\",\n",
    "            xi_out[-1].item(),  # [tuple([0]*horizon)].item(),\n",
    "            \"loss\",\n",
    "            ehig.item(),\n",
    "        )\n",
    "\n",
    "tmp = []\n",
    "for i in range(len(temp)):\n",
    "    tmp.append([temp[i][0], temp[i][-2], temp[i][-1]])  # [tuple([0]*horizon)],\n",
    "\n",
    "tmp = torch.tensor(tmp)\n",
    "best = torch.argmin(tmp, dim=0)[2].item()\n",
    "best_x, best_a, best_hes = tmp[best].numpy().tolist()\n",
    "\n",
    "plt.figure(figsize=(7, 7))\n",
    "ground_truth(draw=True)\n",
    "\n",
    "plt.vlines(prev_x, -1, 1, color=\"black\", label=\"current location\")\n",
    "plt.vlines(prev_x - 0.1, -1, 1, color=\"black\", linestyle=\"--\")\n",
    "plt.vlines(prev_x + 0.1, -1, 1, color=\"black\", linestyle=\"--\")\n",
    "\n",
    "plt.vlines(best_x, -1, 1, color=\"red\", label=\"optimal query\")\n",
    "plt.vlines(best_a, -1, 1, color=\"blue\", label=\"optimal action\")\n",
    "\n",
    "plt.plot(train_x.cpu().numpy(), train_y.cpu().numpy(), \"k*\")\n",
    "\n",
    "# compute posterior\n",
    "test_x = torch.linspace(0, 1, 100)\n",
    "posterior = model.posterior(test_x)\n",
    "test_y = posterior.mean\n",
    "lower, upper = posterior.mvn.confidence_region()\n",
    "\n",
    "plt.plot(\n",
    "    test_x.cpu().detach().numpy(),\n",
    "    test_y.cpu().detach().numpy(),\n",
    "    \"green\",\n",
    "    label=\"Posterior mean\",\n",
    ")\n",
    "\n",
    "plt.fill_between(\n",
    "    test_x.cpu().detach().numpy(),\n",
    "    lower.cpu().detach().numpy(),\n",
    "    upper.cpu().detach().numpy(),\n",
    "    alpha=0.25,\n",
    ")\n",
    "\n",
    "plt.tight_layout()\n",
    "plt.ylim(-1, 1)\n",
    "plt.legend()\n",
    "\n",
    "plt.show()"
   ]
  },
  {
   "cell_type": "markdown",
   "metadata": {
    "id": "52huQYuOb-jK"
   },
   "source": [
    "#2D case"
   ]
  },
  {
   "cell_type": "code",
   "execution_count": null,
   "metadata": {
    "cellView": "form",
    "colab": {
     "base_uri": "https://localhost:8080/",
     "height": 432
    },
    "executionInfo": {
     "elapsed": 424,
     "status": "ok",
     "timestamp": 1664784841547,
     "user": {
      "displayName": "Sang Truong",
      "userId": "02872493733615210272"
     },
     "user_tz": 420
    },
    "id": "F4oVmWZ9uG1R",
    "outputId": "ceb85071-e0e0-4006-c995-d838b4195197"
   },
   "outputs": [
    {
     "data": {
      "image/png": "[encoded data removed]",
      "text/plain": [
       "<Figure size 504x504 with 2 Axes>"
      ]
     },
     "metadata": {
      "needs_background": "light"
     },
     "output_type": "display_data"
    }
   ],
   "source": [
    "# @title Naive Myopic\n",
    "prev_x = torch.tensor([[0.4, 0.4]])\n",
    "n_dim = 2\n",
    "model, train_x, train_y = init_model(n_dim=n_dim)\n",
    "\n",
    "search_space_x = (\n",
    "    np.mgrid[\n",
    "        prev_x[0, 0].item() - 0.1 : prev_x[0, 0].item() + 0.1 : 10j,\n",
    "        prev_x[0, 1].item() - 0.1 : prev_x[0, 1].item() + 0.1 : 10j,\n",
    "    ]\n",
    "    .reshape(2, -1)\n",
    "    .T\n",
    ")\n",
    "\n",
    "search_space_x = torch.tensor(search_space_x)\n",
    "\n",
    "temp = []\n",
    "for x0 in search_space_x:\n",
    "    x0 = x0.reshape(1, 2)\n",
    "\n",
    "    p_y0_on_x0_D0 = model.posterior(x0)\n",
    "\n",
    "    p_f_on_D1 = model.condition_on_observations(x0, p_y0_on_x0_D0.mean)\n",
    "\n",
    "    search_space_a = (\n",
    "        np.mgrid[\n",
    "            x0[0, 0].item() - 0.1 : x0[0, 0].item() + 0.1 : 10j,\n",
    "            x0[0, 1].item() - 0.1 : x0[0, 1].item() + 0.1 : 10j,\n",
    "        ]\n",
    "        .reshape(2, -1)\n",
    "        .T\n",
    "    )\n",
    "\n",
    "    search_space_a = torch.tensor(search_space_a)\n",
    "\n",
    "    for a in search_space_a:\n",
    "        a = a.reshape(1, 2)\n",
    "\n",
    "        p_y1_a_D1 = p_f_on_D1.posterior(a)\n",
    "        temp.append([x0, a, p_y1_a_D1.mean])\n",
    "\n",
    "tmp = [temp[i][2].squeeze() for i in range(len(temp))]\n",
    "\n",
    "tmp = torch.tensor(tmp)\n",
    "best = torch.argmin(tmp, dim=0).item()\n",
    "best_x, best_a, best_hes = temp[best]\n",
    "\n",
    "draw_posterior()\n",
    "\n",
    "plt.scatter(train_x[:, 0], train_x[:, 1], marker=\"*\", color=\"black\")\n",
    "plt.hlines(prev_x[0, 1] - 0.1, 0, 1, linestyle=\"--\")\n",
    "plt.hlines(prev_x[0, 1] + 0.1, 0, 1, linestyle=\"--\")\n",
    "\n",
    "plt.vlines(prev_x[0, 0] - 0.1, 0, 1, linestyle=\"--\")\n",
    "plt.vlines(prev_x[0, 0] + 0.1, 0, 1, linestyle=\"--\")\n",
    "\n",
    "plt.scatter(best_x[0, 0], best_x[0, 1], color=\"blue\")\n",
    "plt.scatter(best_a[0, 0], best_a[0, 1], color=\"red\")\n",
    "\n",
    "plt.show()"
   ]
  },
  {
   "cell_type": "code",
   "execution_count": null,
   "metadata": {
    "cellView": "form",
    "colab": {
     "base_uri": "https://localhost:8080/",
     "height": 486
    },
    "executionInfo": {
     "elapsed": 194447,
     "status": "ok",
     "timestamp": 1664774879382,
     "user": {
      "displayName": "Sang Truong",
      "userId": "02872493733615210272"
     },
     "user_tz": 420
    },
    "id": "lx-_LhPNtH2K",
    "outputId": "17cef383-ecb9-4615-9197-f23b1bca0268"
   },
   "outputs": [
    {
     "name": "stderr",
     "output_type": "stream",
     "text": [
      "100%|██████████| 4/4 [03:13<00:00, 48.42s/it]\n",
      "WARNING:matplotlib.legend:No handles with labels found to put in legend.\n"
     ]
    },
    {
     "data": {
      "text/plain": [
       "<Figure size 504x504 with 0 Axes>"
      ]
     },
     "metadata": {},
     "output_type": "display_data"
    },
    {
     "data": {
      "image/png": "[encoded data removed]",
      "text/plain": [
       "<Figure size 504x504 with 2 Axes>"
      ]
     },
     "metadata": {
      "needs_background": "light"
     },
     "output_type": "display_data"
    }
   ],
   "source": [
    "# @title Joint 5 Steps with sigmoid\n",
    "\n",
    "\n",
    "def compute_ehig(x0, x1, x2, x3, x4, a):\n",
    "    \"\"\"\n",
    "    x0 to a: unconstraint optimization parameters\n",
    "    \"\"\"\n",
    "    x0 = torch.sigmoid(x0) * 0.2 + (prev_x - 0.1)\n",
    "\n",
    "    x1 = torch.sigmoid(x1) * 0.2 + (x0 - 0.1)\n",
    "\n",
    "    x2 = torch.sigmoid(x2) * 0.2 + (x1 - 0.1)\n",
    "\n",
    "    x3 = torch.sigmoid(x3) * 0.2 + (x2 - 0.1)\n",
    "\n",
    "    x4 = torch.sigmoid(x4) * 0.2 + (x3 - 0.1)\n",
    "\n",
    "    a = torch.sigmoid(a) * 0.2 + (x4 - 0.1)\n",
    "\n",
    "    x0 = x0.reshape(1, 2)\n",
    "    x1 = x1.reshape(1, 2)\n",
    "    x2 = x2.reshape(1, 2)\n",
    "    x3 = x3.reshape(1, 2)\n",
    "    x4 = x4.reshape(1, 2)\n",
    "    a = a.reshape(1, 2)\n",
    "\n",
    "    p_y0_on_x0_D0 = model.posterior(x0)\n",
    "    p_f_on_D1 = model.condition_on_observations(x0, p_y0_on_x0_D0.mean)\n",
    "\n",
    "    p_y1_on_x1_D1 = p_f_on_D1.posterior(x1)\n",
    "    p_f_on_D2 = p_f_on_D1.condition_on_observations(x1, p_y1_on_x1_D1.mean)\n",
    "\n",
    "    p_y2_on_x2_D2 = p_f_on_D2.posterior(x2)\n",
    "    p_f_on_D3 = p_f_on_D2.condition_on_observations(x2, p_y2_on_x2_D2.mean)\n",
    "\n",
    "    p_y3_on_x3_D3 = p_f_on_D3.posterior(x3)\n",
    "    p_f_on_D4 = p_f_on_D3.condition_on_observations(x3, p_y3_on_x3_D3.mean)\n",
    "\n",
    "    p_y4_on_x4_D4 = p_f_on_D3.posterior(x4)\n",
    "    p_f_on_D5 = p_f_on_D4.condition_on_observations(x4, p_y4_on_x4_D4.mean)\n",
    "\n",
    "    p_y5_a_D5 = p_f_on_D5.posterior(a)\n",
    "\n",
    "    ehig = p_y5_a_D5.mean\n",
    "\n",
    "    return x0, x1, x2, x3, x4, a, ehig\n",
    "\n",
    "\n",
    "temp = []\n",
    "\n",
    "search_space = (\n",
    "    np.mgrid[\n",
    "        -6:6:2j,\n",
    "        -6:6:2j,\n",
    "    ]\n",
    "    .reshape(2, -1)\n",
    "    .T\n",
    ")\n",
    "\n",
    "search_space = torch.tensor(search_space)\n",
    "\n",
    "for x0 in tqdm(search_space):\n",
    "    for x1 in search_space:\n",
    "        for x2 in search_space:\n",
    "            for x3 in search_space:\n",
    "                for x4 in search_space:\n",
    "                    for a in search_space:\n",
    "                        x0_, x1_, x2_, x3_, x4_, a_, ehig = compute_ehig(\n",
    "                            x0, x1, x2, x3, x4, a\n",
    "                        )\n",
    "\n",
    "                temp.append([x0_, x1_, x2_, x3_, x4_, a_, ehig])\n",
    "\n",
    "tmp = []\n",
    "for i in range(len(temp)):\n",
    "    tmp.append([temp[i][0], temp[i][-2], temp[i][-1]])  # [tuple([0]*horizon)],\n",
    "\n",
    "tmp2 = []\n",
    "for i in range(len(temp)):\n",
    "    tmp2.append(\n",
    "        [\n",
    "            # temp[i][0],\n",
    "            # temp[i][-2],#[tuple([0]*horizon)],\n",
    "            temp[i][-1]\n",
    "        ]\n",
    "    )\n",
    "\n",
    "tmp2 = torch.tensor(tmp2)\n",
    "best = torch.argmin(tmp2, dim=0).item()\n",
    "\n",
    "best_x, best_a, best_hes = tmp[best]\n",
    "\n",
    "plt.figure(figsize=(7, 7))\n",
    "\n",
    "draw_posterior()\n",
    "\n",
    "plt.scatter(train_x[:, 0], train_x[:, 1], marker=\"*\", color=\"black\")\n",
    "plt.hlines(prev_x[0, 1] - 0.1, 0, 1, linestyle=\"--\")\n",
    "plt.hlines(prev_x[0, 1] + 0.1, 0, 1, linestyle=\"--\")\n",
    "\n",
    "plt.vlines(prev_x[0, 0] - 0.1, 0, 1, linestyle=\"--\")\n",
    "plt.vlines(prev_x[0, 0] + 0.1, 0, 1, linestyle=\"--\")\n",
    "\n",
    "plt.scatter(best_x[0, 0], best_x[0, 1], color=\"blue\")\n",
    "plt.scatter(best_a[..., 0, 0], best_a[..., 0, 1], color=\"red\")\n",
    "\n",
    "plt.legend()\n",
    "plt.show()"
   ]
  },
  {
   "cell_type": "code",
   "execution_count": null,
   "metadata": {
    "cellView": "form",
    "colab": {
     "base_uri": "https://localhost:8080/",
     "height": 595
    },
    "executionInfo": {
     "elapsed": 32153,
     "status": "ok",
     "timestamp": 1664775396825,
     "user": {
      "displayName": "Sang Truong",
      "userId": "02872493733615210272"
     },
     "user_tz": 420
    },
    "id": "Oha7l0_33MYy",
    "outputId": "dcce4b33-6efb-463f-fc14-d8e0257b3746"
   },
   "outputs": [
    {
     "name": "stderr",
     "output_type": "stream",
     "text": [
      "  0%|          | 2/500 [00:00<00:35, 14.15it/s]"
     ]
    },
    {
     "name": "stdout",
     "output_type": "stream",
     "text": [
      "-0.17174978585873785 tensor([0.3571, 3.9350], requires_grad=True) tensor([2.7116, 2.3655], requires_grad=True) tensor([3.2167, 3.3830], requires_grad=True) tensor([2.6834, 0.1479], requires_grad=True)\n"
     ]
    },
    {
     "name": "stderr",
     "output_type": "stream",
     "text": [
      " 21%|██        | 104/500 [00:06<00:29, 13.58it/s]"
     ]
    },
    {
     "name": "stdout",
     "output_type": "stream",
     "text": [
      "-1.3899084583861996 tensor([-1.9557,  4.3877], requires_grad=True) tensor([4.3649, 2.2870], requires_grad=True) tensor([5.0192, 3.7287], requires_grad=True) tensor([ 4.3258, -3.4753], requires_grad=True)\n"
     ]
    },
    {
     "name": "stderr",
     "output_type": "stream",
     "text": [
      " 41%|████      | 204/500 [00:13<00:18, 15.87it/s]"
     ]
    },
    {
     "name": "stdout",
     "output_type": "stream",
     "text": [
      "-1.38990849551188 tensor([-1.9557,  4.3871], requires_grad=True) tensor([4.3655, 2.2861], requires_grad=True) tensor([5.0197, 3.7280], requires_grad=True) tensor([ 4.3264, -3.4761], requires_grad=True)\n"
     ]
    },
    {
     "name": "stderr",
     "output_type": "stream",
     "text": [
      " 61%|██████    | 304/500 [00:19<00:12, 16.05it/s]"
     ]
    },
    {
     "name": "stdout",
     "output_type": "stream",
     "text": [
      "-1.3899084956990815 tensor([-1.9557,  4.3871], requires_grad=True) tensor([4.3655, 2.2862], requires_grad=True) tensor([5.0197, 3.7280], requires_grad=True) tensor([ 4.3264, -3.4761], requires_grad=True)\n"
     ]
    },
    {
     "name": "stderr",
     "output_type": "stream",
     "text": [
      " 81%|████████  | 404/500 [00:25<00:05, 16.02it/s]"
     ]
    },
    {
     "name": "stdout",
     "output_type": "stream",
     "text": [
      "-1.3899084956990815 tensor([-1.9557,  4.3871], requires_grad=True) tensor([4.3655, 2.2862], requires_grad=True) tensor([5.0197, 3.7280], requires_grad=True) tensor([ 4.3264, -3.4761], requires_grad=True)\n"
     ]
    },
    {
     "name": "stderr",
     "output_type": "stream",
     "text": [
      "100%|██████████| 500/500 [00:31<00:00, 15.63it/s]\n",
      "WARNING:matplotlib.legend:No handles with labels found to put in legend.\n"
     ]
    },
    {
     "data": {
      "text/plain": [
       "<Figure size 504x504 with 0 Axes>"
      ]
     },
     "metadata": {},
     "output_type": "display_data"
    },
    {
     "data": {
      "image/png": "[encoded data removed]",
      "text/plain": [
       "<Figure size 504x504 with 2 Axes>"
      ]
     },
     "metadata": {
      "needs_background": "light"
     },
     "output_type": "display_data"
    }
   ],
   "source": [
    "# @title Joint 5 Steps with sigmoid and adam\n",
    "\n",
    "\n",
    "def compute_ehig(x0, x1, x2, x3, x4, a):\n",
    "    \"\"\"\n",
    "    x0 to a: unconstraint optimization parameters\n",
    "    \"\"\"\n",
    "    x0 = torch.sigmoid(x0) * 0.2 + (prev_x - 0.1)\n",
    "\n",
    "    x1 = torch.sigmoid(x1) * 0.2 + (x0 - 0.1)\n",
    "\n",
    "    x2 = torch.sigmoid(x2) * 0.2 + (x1 - 0.1)\n",
    "\n",
    "    x3 = torch.sigmoid(x3) * 0.2 + (x2 - 0.1)\n",
    "\n",
    "    x4 = torch.sigmoid(x4) * 0.2 + (x3 - 0.1)\n",
    "\n",
    "    a = torch.sigmoid(a) * 0.2 + (x4 - 0.1)\n",
    "\n",
    "    x0 = x0.reshape(1, 2)\n",
    "    x1 = x1.reshape(1, 2)\n",
    "    x2 = x2.reshape(1, 2)\n",
    "    x3 = x3.reshape(1, 2)\n",
    "    x4 = x4.reshape(1, 2)\n",
    "    a = a.reshape(1, 2)\n",
    "\n",
    "    p_y0_on_x0_D0 = model.posterior(x0)\n",
    "    p_f_on_D1 = model.condition_on_observations(x0, p_y0_on_x0_D0.mean)\n",
    "\n",
    "    p_y1_on_x1_D1 = p_f_on_D1.posterior(x1)\n",
    "    p_f_on_D2 = p_f_on_D1.condition_on_observations(x1, p_y1_on_x1_D1.mean)\n",
    "\n",
    "    p_y2_on_x2_D2 = p_f_on_D2.posterior(x2)\n",
    "    p_f_on_D3 = p_f_on_D2.condition_on_observations(x2, p_y2_on_x2_D2.mean)\n",
    "\n",
    "    p_y3_on_x3_D3 = p_f_on_D3.posterior(x3)\n",
    "    p_f_on_D4 = p_f_on_D3.condition_on_observations(x3, p_y3_on_x3_D3.mean)\n",
    "\n",
    "    p_y4_on_x4_D4 = p_f_on_D3.posterior(x4)\n",
    "    p_f_on_D5 = p_f_on_D4.condition_on_observations(x4, p_y4_on_x4_D4.mean)\n",
    "\n",
    "    p_y5_a_D5 = p_f_on_D5.posterior(a)\n",
    "\n",
    "    ehig = p_y5_a_D5.mean\n",
    "\n",
    "    return x0, x1, x2, x3, x4, a, ehig\n",
    "\n",
    "\n",
    "temp = []\n",
    "\n",
    "import torch.optim as optim\n",
    "import copy\n",
    "\n",
    "x0 = (torch.rand(n_dim) * 6).requires_grad_(True)\n",
    "x1 = (torch.rand(n_dim) * 6).requires_grad_(True)\n",
    "x2 = (torch.rand(n_dim) * 6).requires_grad_(True)\n",
    "x3 = (torch.rand(n_dim) * 6).requires_grad_(True)\n",
    "x4 = (torch.rand(n_dim) * 6).requires_grad_(True)\n",
    "a = (torch.rand(n_dim) * 6).requires_grad_(True)\n",
    "\n",
    "optimizer = optim.Adam([x0, x1, x2, x3, x4, a], lr=0.5)\n",
    "\n",
    "for epoch in tqdm(range(500)):\n",
    "    optimizer.zero_grad()\n",
    "    x0_, x1_, x2_, x3_, x4_, a_, ehig = compute_ehig(x0, x1, x2, x3, x4, a)\n",
    "    temp.append([x0_, a_, ehig])\n",
    "    ehig.backward(retain_graph=True)\n",
    "    optimizer.step()\n",
    "\n",
    "    if epoch % 100 == 0:\n",
    "        print(ehig.item(), x0, x1, x2, a)\n",
    "\n",
    "\n",
    "tmp = []\n",
    "for i in range(len(temp)):\n",
    "    tmp.append([temp[i][0], temp[i][-2], temp[i][-1]])  # [tuple([0]*horizon)],\n",
    "\n",
    "tmp2 = []\n",
    "for i in range(len(temp)):\n",
    "    tmp2.append(\n",
    "        [\n",
    "            # temp[i][0],\n",
    "            # temp[i][-2],#[tuple([0]*horizon)],\n",
    "            temp[i][-1]\n",
    "        ]\n",
    "    )\n",
    "\n",
    "tmp2 = torch.tensor(tmp2)\n",
    "best = torch.argmin(tmp2, dim=0).item()\n",
    "\n",
    "best_x, best_a, best_hes = tmp[best]\n",
    "\n",
    "plt.figure(figsize=(7, 7))\n",
    "\n",
    "draw_posterior()\n",
    "\n",
    "plt.scatter(train_x[:, 0], train_x[:, 1], marker=\"*\", color=\"black\")\n",
    "plt.hlines(prev_x[0, 1] - 0.1, 0, 1, linestyle=\"--\")\n",
    "plt.hlines(prev_x[0, 1] + 0.1, 0, 1, linestyle=\"--\")\n",
    "\n",
    "plt.vlines(prev_x[0, 0] - 0.1, 0, 1, linestyle=\"--\")\n",
    "plt.vlines(prev_x[0, 0] + 0.1, 0, 1, linestyle=\"--\")\n",
    "\n",
    "plt.scatter(best_x[0, 0].detach().numpy(), best_x[0, 1].detach().numpy(), color=\"blue\")\n",
    "plt.scatter(\n",
    "    best_a[..., 0, 0].detach().numpy(), best_a[..., 0, 1].detach().numpy(), color=\"red\"\n",
    ")\n",
    "\n",
    "plt.legend()\n",
    "plt.show()"
   ]
  },
  {
   "cell_type": "code",
   "execution_count": null,
   "metadata": {
    "id": "RgPbT7kUJt29"
   },
   "outputs": [],
   "source": []
  },
  {
   "cell_type": "code",
   "execution_count": null,
   "metadata": {
    "id": "pguRf-cfJt0f"
   },
   "outputs": [],
   "source": []
  },
  {
   "cell_type": "code",
   "execution_count": null,
   "metadata": {
    "id": "5iZK8WDlJtyE"
   },
   "outputs": [],
   "source": []
  },
  {
   "cell_type": "code",
   "execution_count": null,
   "metadata": {
    "id": "SJfw8UxQJtvZ"
   },
   "outputs": [],
   "source": []
  },
  {
   "cell_type": "code",
   "execution_count": null,
   "metadata": {
    "id": "AYTpcuimJtsn"
   },
   "outputs": [],
   "source": []
  },
  {
   "cell_type": "code",
   "execution_count": null,
   "metadata": {
    "id": "nOz-ZPkKJtpp"
   },
   "outputs": [],
   "source": []
  },
  {
   "cell_type": "code",
   "execution_count": null,
   "metadata": {
    "id": "sGXY6Nm3tHqe"
   },
   "outputs": [],
   "source": []
  },
  {
   "cell_type": "code",
   "execution_count": null,
   "metadata": {
    "cellView": "form",
    "colab": {
     "base_uri": "https://localhost:8080/",
     "height": 684
    },
    "executionInfo": {
     "elapsed": 347809,
     "status": "ok",
     "timestamp": 1664776551971,
     "user": {
      "displayName": "Sang Truong",
      "userId": "02872493733615210272"
     },
     "user_tz": 420
    },
    "id": "0Mwa4bKEnmsA",
    "outputId": "997a9e78-20b9-404e-b392-dd0369cd04bd"
   },
   "outputs": [
    {
     "name": "stderr",
     "output_type": "stream",
     "text": [
      "  5%|▌         | 1/20 [00:17<05:36, 17.69s/it]"
     ]
    },
    {
     "name": "stdout",
     "output_type": "stream",
     "text": [
      "x0  tensor([[1.3849, 5.2884]], requires_grad=True) a tensor([[4.2968, 7.0163]], grad_fn=<SelectBackward0>) loss tensor(-0.1112, dtype=torch.float64, grad_fn=<SqueezeBackward0>)\n"
     ]
    },
    {
     "name": "stderr",
     "output_type": "stream",
     "text": [
      " 15%|█▌        | 3/20 [00:51<04:52, 17.23s/it]"
     ]
    },
    {
     "name": "stdout",
     "output_type": "stream",
     "text": [
      "x0  tensor([[0.3906, 4.3188]], requires_grad=True) a tensor([[3.3107, 6.0578]], grad_fn=<SelectBackward0>) loss tensor(-0.4660, dtype=torch.float64, grad_fn=<SqueezeBackward0>)\n"
     ]
    },
    {
     "name": "stderr",
     "output_type": "stream",
     "text": [
      " 25%|██▌       | 5/20 [01:25<04:15, 17.01s/it]"
     ]
    },
    {
     "name": "stdout",
     "output_type": "stream",
     "text": [
      "x0  tensor([[-0.1179,  3.3362]], requires_grad=True) a tensor([[3.0196, 5.1549]], grad_fn=<SelectBackward0>) loss tensor(-0.6387, dtype=torch.float64, grad_fn=<SqueezeBackward0>)\n"
     ]
    },
    {
     "name": "stderr",
     "output_type": "stream",
     "text": [
      " 35%|███▌      | 7/20 [02:03<03:54, 18.02s/it]"
     ]
    },
    {
     "name": "stdout",
     "output_type": "stream",
     "text": [
      "x0  tensor([[0.2129, 2.4693]], requires_grad=True) a tensor([[3.6210, 4.3562]], grad_fn=<SelectBackward0>) loss tensor(-0.8150, dtype=torch.float64, grad_fn=<SqueezeBackward0>)\n"
     ]
    },
    {
     "name": "stderr",
     "output_type": "stream",
     "text": [
      " 45%|████▌     | 9/20 [02:38<03:14, 17.70s/it]"
     ]
    },
    {
     "name": "stdout",
     "output_type": "stream",
     "text": [
      "x0  tensor([[0.8388, 2.1411]], requires_grad=True) a tensor([[4.2040, 4.6278]], grad_fn=<SelectBackward0>) loss tensor(-1.0914, dtype=torch.float64, grad_fn=<SqueezeBackward0>)\n"
     ]
    },
    {
     "name": "stderr",
     "output_type": "stream",
     "text": [
      " 55%|█████▌    | 11/20 [03:12<02:36, 17.42s/it]"
     ]
    },
    {
     "name": "stdout",
     "output_type": "stream",
     "text": [
      "x0  tensor([[1.4505, 1.9344]], requires_grad=True) a tensor([[4.6807, 5.1121]], grad_fn=<SelectBackward0>) loss tensor(-1.1826, dtype=torch.float64, grad_fn=<SqueezeBackward0>)\n"
     ]
    },
    {
     "name": "stderr",
     "output_type": "stream",
     "text": [
      " 65%|██████▌   | 13/20 [03:45<01:59, 17.10s/it]"
     ]
    },
    {
     "name": "stdout",
     "output_type": "stream",
     "text": [
      "x0  tensor([[1.8578, 1.9980]], requires_grad=True) a tensor([[5.0373, 5.2487]], grad_fn=<SelectBackward0>) loss tensor(-1.1930, dtype=torch.float64, grad_fn=<SqueezeBackward0>)\n"
     ]
    },
    {
     "name": "stderr",
     "output_type": "stream",
     "text": [
      " 75%|███████▌  | 15/20 [04:20<01:25, 17.11s/it]"
     ]
    },
    {
     "name": "stdout",
     "output_type": "stream",
     "text": [
      "x0  tensor([[2.0224, 2.5263]], requires_grad=True) a tensor([[5.2994, 5.3446]], grad_fn=<SelectBackward0>) loss tensor(-1.1823, dtype=torch.float64, grad_fn=<SqueezeBackward0>)\n"
     ]
    },
    {
     "name": "stderr",
     "output_type": "stream",
     "text": [
      " 85%|████████▌ | 17/20 [04:54<00:51, 17.12s/it]"
     ]
    },
    {
     "name": "stdout",
     "output_type": "stream",
     "text": [
      "x0  tensor([[2.0642, 2.7709]], requires_grad=True) a tensor([[5.4900, 5.2416]], grad_fn=<SelectBackward0>) loss tensor(-1.2242, dtype=torch.float64, grad_fn=<SqueezeBackward0>)\n"
     ]
    },
    {
     "name": "stderr",
     "output_type": "stream",
     "text": [
      " 95%|█████████▌| 19/20 [05:28<00:17, 17.09s/it]"
     ]
    },
    {
     "name": "stdout",
     "output_type": "stream",
     "text": [
      "x0  tensor([[2.0344, 2.8988]], requires_grad=True) a tensor([[5.6290, 5.0256]], grad_fn=<SelectBackward0>) loss tensor(-1.2291, dtype=torch.float64, grad_fn=<SqueezeBackward0>)\n"
     ]
    },
    {
     "name": "stderr",
     "output_type": "stream",
     "text": [
      "100%|██████████| 20/20 [05:46<00:00, 17.30s/it]\n",
      "WARNING:matplotlib.legend:No handles with labels found to put in legend.\n"
     ]
    },
    {
     "data": {
      "text/plain": [
       "<Figure size 504x504 with 0 Axes>"
      ]
     },
     "metadata": {},
     "output_type": "display_data"
    },
    {
     "data": {
      "image/png": "[encoded data removed]",
      "text/plain": [
       "<Figure size 504x504 with 2 Axes>"
      ]
     },
     "metadata": {
      "needs_background": "light"
     },
     "output_type": "display_data"
    }
   ],
   "source": [
    "# @title Joint 5 Steps with sigmoid and adam and sampling -- parallel\n",
    "\n",
    "from botorch.sampling.samplers import SobolQMCNormalSampler\n",
    "from botorch import settings\n",
    "import itertools\n",
    "\n",
    "\n",
    "def compute_ehig(xi, horizon=5, num_samples=4):\n",
    "    with settings.propagate_grads(state=True):\n",
    "        for h in range(0, horizon + 1):\n",
    "            pvs_x = xi[h - 1] if h > 0 else prev_x\n",
    "            xi[h] = torch.sigmoid(xi[h]) * 0.2 + (pvs_x - 0.1)\n",
    "\n",
    "        ehigs = 0\n",
    "        sample_yi_on_xi_Di = {}\n",
    "        prev_ind = np.ones(horizon) * -1\n",
    "        p_f_on_Di = {}\n",
    "        p_f_on_Di[0] = model\n",
    "        sampler = SobolQMCNormalSampler(\n",
    "            num_samples=num_samples, resample=False, collapse_batch_dims=True\n",
    "        )\n",
    "\n",
    "        p_y0_on_x0_D0 = model.posterior(xi[0])\n",
    "        sample_yi_on_xi_Di[0] = sampler(p_y0_on_x0_D0)\n",
    "\n",
    "        for ind in itertools.product(range(num_samples), repeat=horizon):\n",
    "            equal_bool = np.equal(ind, prev_ind)\n",
    "            prev_ind = ind\n",
    "\n",
    "            for i in range(horizon):\n",
    "                if not equal_bool[i]:\n",
    "                    p_f_on_Di[i + 1] = p_f_on_Di[i].condition_on_observations(\n",
    "                        xi[i][ind[:i]], sample_yi_on_xi_Di[i][ind[i]]\n",
    "                    )\n",
    "                    sample_yi_on_xi_Di[i + 1] = sampler(\n",
    "                        p_f_on_Di[i + 1].posterior(xi[i + 1][ind[: i + 1]])\n",
    "                    )\n",
    "\n",
    "            ehig = sample_yi_on_xi_Di[horizon].mean()\n",
    "            ehigs = ehigs + ehig\n",
    "\n",
    "        ehig = ehigs / (num_samples**horizon)\n",
    "\n",
    "        return xi[0], xi[-1], ehig.squeeze()\n",
    "\n",
    "\n",
    "temp = []\n",
    "\n",
    "xi = []\n",
    "# xi[-1] = prev_x\n",
    "\n",
    "dim_xi = [1, n_dim]\n",
    "horizon = 5  # 7\n",
    "for h in range(horizon + 1):\n",
    "    xi.append((torch.rand(dim_xi) * 10).requires_grad_(True))\n",
    "    dim_xi.insert(0, 4)\n",
    "\n",
    "optimizer = optim.Adam(xi, lr=0.5)\n",
    "for epoch in tqdm(range(20)):\n",
    "    optimizer.zero_grad()\n",
    "\n",
    "    xi_in = [element_xi.clone() for element_xi in xi]\n",
    "    x0_, a_, ehig = compute_ehig(xi_in, horizon=horizon)\n",
    "    temp.append([x0_.detach(), a_.detach(), ehig.detach()])\n",
    "\n",
    "    ehig.backward(retain_graph=True)\n",
    "    optimizer.step()\n",
    "\n",
    "    if epoch % 2 == 0:\n",
    "        print(\"x0 \", xi[0], \"a\", xi[horizon][tuple([0] * horizon)], \"loss\", ehig)\n",
    "\n",
    "\n",
    "tmp = []\n",
    "for i in range(len(temp)):\n",
    "    tmp.append([temp[i][0], temp[i][-2], temp[i][-1]])  # [tuple([0]*horizon)],\n",
    "\n",
    "tmp2 = []\n",
    "for i in range(len(temp)):\n",
    "    tmp2.append(\n",
    "        [\n",
    "            # temp[i][0],\n",
    "            # temp[i][-2],#[tuple([0]*horizon)],\n",
    "            temp[i][-1]\n",
    "        ]\n",
    "    )\n",
    "\n",
    "tmp2 = torch.tensor(tmp2)\n",
    "best = torch.argmin(tmp2, dim=0).item()\n",
    "\n",
    "best_x, best_a, best_hes = tmp[best]\n",
    "\n",
    "plt.figure(figsize=(7, 7))\n",
    "\n",
    "draw_posterior()\n",
    "\n",
    "plt.scatter(train_x[:, 0], train_x[:, 1], marker=\"*\", color=\"black\")\n",
    "plt.hlines(prev_x[0, 1] - 0.1, 0, 1, linestyle=\"--\")\n",
    "plt.hlines(prev_x[0, 1] + 0.1, 0, 1, linestyle=\"--\")\n",
    "\n",
    "plt.vlines(prev_x[0, 0] - 0.1, 0, 1, linestyle=\"--\")\n",
    "plt.vlines(prev_x[0, 0] + 0.1, 0, 1, linestyle=\"--\")\n",
    "\n",
    "plt.scatter(best_x[0, 0].detach().numpy(), best_x[0, 1].detach().numpy(), color=\"blue\")\n",
    "plt.scatter(\n",
    "    best_a[..., 0, 0].detach().numpy(), best_a[..., 0, 1].detach().numpy(), color=\"red\"\n",
    ")\n",
    "\n",
    "plt.legend()\n",
    "plt.show()"
   ]
  },
  {
   "cell_type": "code",
   "execution_count": null,
   "metadata": {
    "colab": {
     "base_uri": "https://localhost:8080/",
     "height": 1000
    },
    "executionInfo": {
     "elapsed": 177727,
     "status": "ok",
     "timestamp": 1664785799465,
     "user": {
      "displayName": "Sang Truong",
      "userId": "02872493733615210272"
     },
     "user_tz": 420
    },
    "id": "SPrdRhoJOBvj",
    "outputId": "e5004e19-7e84-4cb1-bee9-a700f62d8224"
   },
   "outputs": [
    {
     "name": "stderr",
     "output_type": "stream",
     "text": [
      "  1%|          | 1/100 [00:03<05:49,  3.53s/it]"
     ]
    },
    {
     "name": "stdout",
     "output_type": "stream",
     "text": [
      "x0  tensor([[0.4997, 0.4197]], grad_fn=<AddBackward0>) a tensor([[1.1341, 0.9900]], grad_fn=<AddBackward0>) loss tensor(0.5004, dtype=torch.float64, grad_fn=<SqueezeBackward0>)\n"
     ]
    },
    {
     "name": "stderr",
     "output_type": "stream",
     "text": [
      "  3%|▎         | 3/100 [00:07<03:38,  2.25s/it]"
     ]
    },
    {
     "name": "stdout",
     "output_type": "stream",
     "text": [
      "x0  tensor([[0.4998, 0.4100]], grad_fn=<AddBackward0>) a tensor([[1.1428, 0.9646]], grad_fn=<AddBackward0>) loss tensor(0.4417, dtype=torch.float64, grad_fn=<SqueezeBackward0>)\n"
     ]
    },
    {
     "name": "stderr",
     "output_type": "stream",
     "text": [
      "  5%|▌         | 5/100 [00:10<03:07,  1.98s/it]"
     ]
    },
    {
     "name": "stdout",
     "output_type": "stream",
     "text": [
      "x0  tensor([[0.4998, 0.4000]], grad_fn=<AddBackward0>) a tensor([[1.1507, 0.9383]], grad_fn=<AddBackward0>) loss tensor(0.3802, dtype=torch.float64, grad_fn=<SqueezeBackward0>)\n"
     ]
    },
    {
     "name": "stderr",
     "output_type": "stream",
     "text": [
      "  7%|▋         | 7/100 [00:14<02:53,  1.87s/it]"
     ]
    },
    {
     "name": "stdout",
     "output_type": "stream",
     "text": [
      "x0  tensor([[0.4999, 0.3899]], grad_fn=<AddBackward0>) a tensor([[1.1574, 0.9113]], grad_fn=<AddBackward0>) loss tensor(0.3189, dtype=torch.float64, grad_fn=<SqueezeBackward0>)\n"
     ]
    },
    {
     "name": "stderr",
     "output_type": "stream",
     "text": [
      "  9%|▉         | 9/100 [00:18<02:43,  1.80s/it]"
     ]
    },
    {
     "name": "stdout",
     "output_type": "stream",
     "text": [
      "x0  tensor([[0.4999, 0.3800]], grad_fn=<AddBackward0>) a tensor([[1.1627, 0.8840]], grad_fn=<AddBackward0>) loss tensor(0.2571, dtype=torch.float64, grad_fn=<SqueezeBackward0>)\n"
     ]
    },
    {
     "name": "stderr",
     "output_type": "stream",
     "text": [
      " 11%|█         | 11/100 [00:21<02:41,  1.81s/it]"
     ]
    },
    {
     "name": "stdout",
     "output_type": "stream",
     "text": [
      "x0  tensor([[0.4999, 0.3705]], grad_fn=<AddBackward0>) a tensor([[1.1666, 0.8567]], grad_fn=<AddBackward0>) loss tensor(0.1944, dtype=torch.float64, grad_fn=<SqueezeBackward0>)\n"
     ]
    },
    {
     "name": "stderr",
     "output_type": "stream",
     "text": [
      " 13%|█▎        | 13/100 [00:25<02:34,  1.77s/it]"
     ]
    },
    {
     "name": "stdout",
     "output_type": "stream",
     "text": [
      "x0  tensor([[0.4999, 0.3615]], grad_fn=<AddBackward0>) a tensor([[1.1692, 0.8296]], grad_fn=<AddBackward0>) loss tensor(0.1311, dtype=torch.float64, grad_fn=<SqueezeBackward0>)\n"
     ]
    },
    {
     "name": "stderr",
     "output_type": "stream",
     "text": [
      " 15%|█▌        | 15/100 [00:28<02:29,  1.76s/it]"
     ]
    },
    {
     "name": "stdout",
     "output_type": "stream",
     "text": [
      "x0  tensor([[0.4999, 0.3532]], grad_fn=<AddBackward0>) a tensor([[1.1706, 0.8031]], grad_fn=<AddBackward0>) loss tensor(0.0681, dtype=torch.float64, grad_fn=<SqueezeBackward0>)\n"
     ]
    },
    {
     "name": "stderr",
     "output_type": "stream",
     "text": [
      " 17%|█▋        | 17/100 [00:32<02:28,  1.79s/it]"
     ]
    },
    {
     "name": "stdout",
     "output_type": "stream",
     "text": [
      "x0  tensor([[0.4999, 0.3458]], grad_fn=<AddBackward0>) a tensor([[1.1708, 0.7774]], grad_fn=<AddBackward0>) loss tensor(0.0058, dtype=torch.float64, grad_fn=<SqueezeBackward0>)\n"
     ]
    },
    {
     "name": "stderr",
     "output_type": "stream",
     "text": [
      " 19%|█▉        | 19/100 [00:35<02:23,  1.77s/it]"
     ]
    },
    {
     "name": "stdout",
     "output_type": "stream",
     "text": [
      "x0  tensor([[0.4999, 0.3392]], grad_fn=<AddBackward0>) a tensor([[1.1698, 0.7526]], grad_fn=<AddBackward0>) loss tensor(-0.0561, dtype=torch.float64, grad_fn=<SqueezeBackward0>)\n"
     ]
    },
    {
     "name": "stderr",
     "output_type": "stream",
     "text": [
      " 21%|██        | 21/100 [00:39<02:18,  1.76s/it]"
     ]
    },
    {
     "name": "stdout",
     "output_type": "stream",
     "text": [
      "x0  tensor([[0.4999, 0.3336]], grad_fn=<AddBackward0>) a tensor([[1.1676, 0.7288]], grad_fn=<AddBackward0>) loss tensor(-0.1193, dtype=torch.float64, grad_fn=<SqueezeBackward0>)\n"
     ]
    },
    {
     "name": "stderr",
     "output_type": "stream",
     "text": [
      " 23%|██▎       | 23/100 [00:42<02:18,  1.80s/it]"
     ]
    },
    {
     "name": "stdout",
     "output_type": "stream",
     "text": [
      "x0  tensor([[0.4999, 0.3287]], grad_fn=<AddBackward0>) a tensor([[1.1640, 0.7060]], grad_fn=<AddBackward0>) loss tensor(-0.1849, dtype=torch.float64, grad_fn=<SqueezeBackward0>)\n"
     ]
    },
    {
     "name": "stderr",
     "output_type": "stream",
     "text": [
      " 25%|██▌       | 25/100 [00:46<02:14,  1.79s/it]"
     ]
    },
    {
     "name": "stdout",
     "output_type": "stream",
     "text": [
      "x0  tensor([[0.4999, 0.3246]], grad_fn=<AddBackward0>) a tensor([[1.1590, 0.6841]], grad_fn=<AddBackward0>) loss tensor(-0.2531, dtype=torch.float64, grad_fn=<SqueezeBackward0>)\n"
     ]
    },
    {
     "name": "stderr",
     "output_type": "stream",
     "text": [
      " 27%|██▋       | 27/100 [00:49<02:08,  1.76s/it]"
     ]
    },
    {
     "name": "stdout",
     "output_type": "stream",
     "text": [
      "x0  tensor([[0.4999, 0.3212]], grad_fn=<AddBackward0>) a tensor([[1.1524, 0.6629]], grad_fn=<AddBackward0>) loss tensor(-0.3253, dtype=torch.float64, grad_fn=<SqueezeBackward0>)\n"
     ]
    },
    {
     "name": "stderr",
     "output_type": "stream",
     "text": [
      " 29%|██▉       | 29/100 [00:53<02:07,  1.79s/it]"
     ]
    },
    {
     "name": "stdout",
     "output_type": "stream",
     "text": [
      "x0  tensor([[0.4999, 0.3184]], grad_fn=<AddBackward0>) a tensor([[1.1440, 0.6419]], grad_fn=<AddBackward0>) loss tensor(-0.4039, dtype=torch.float64, grad_fn=<SqueezeBackward0>)\n"
     ]
    },
    {
     "name": "stderr",
     "output_type": "stream",
     "text": [
      " 31%|███       | 31/100 [00:56<01:59,  1.74s/it]"
     ]
    },
    {
     "name": "stdout",
     "output_type": "stream",
     "text": [
      "x0  tensor([[0.4999, 0.3160]], grad_fn=<AddBackward0>) a tensor([[1.1339, 0.6207]], grad_fn=<AddBackward0>) loss tensor(-0.4913, dtype=torch.float64, grad_fn=<SqueezeBackward0>)\n"
     ]
    },
    {
     "name": "stderr",
     "output_type": "stream",
     "text": [
      " 33%|███▎      | 33/100 [01:00<01:54,  1.72s/it]"
     ]
    },
    {
     "name": "stdout",
     "output_type": "stream",
     "text": [
      "x0  tensor([[0.4999, 0.3141]], grad_fn=<AddBackward0>) a tensor([[1.1221, 0.5984]], grad_fn=<AddBackward0>) loss tensor(-0.5915, dtype=torch.float64, grad_fn=<SqueezeBackward0>)\n"
     ]
    },
    {
     "name": "stderr",
     "output_type": "stream",
     "text": [
      " 35%|███▌      | 35/100 [01:04<01:55,  1.77s/it]"
     ]
    },
    {
     "name": "stdout",
     "output_type": "stream",
     "text": [
      "x0  tensor([[0.4998, 0.3124]], grad_fn=<AddBackward0>) a tensor([[1.1092, 0.5745]], grad_fn=<AddBackward0>) loss tensor(-0.7286, dtype=torch.float64, grad_fn=<SqueezeBackward0>)\n"
     ]
    },
    {
     "name": "stderr",
     "output_type": "stream",
     "text": [
      " 37%|███▋      | 37/100 [01:07<01:51,  1.76s/it]"
     ]
    },
    {
     "name": "stdout",
     "output_type": "stream",
     "text": [
      "x0  tensor([[0.4998, 0.3110]], grad_fn=<AddBackward0>) a tensor([[1.0955, 0.5485]], grad_fn=<AddBackward0>) loss tensor(-0.8258, dtype=torch.float64, grad_fn=<SqueezeBackward0>)\n"
     ]
    },
    {
     "name": "stderr",
     "output_type": "stream",
     "text": [
      " 39%|███▉      | 39/100 [01:10<01:45,  1.73s/it]"
     ]
    },
    {
     "name": "stdout",
     "output_type": "stream",
     "text": [
      "x0  tensor([[0.4997, 0.3099]], grad_fn=<AddBackward0>) a tensor([[1.0811, 0.5198]], grad_fn=<AddBackward0>) loss tensor(-0.9113, dtype=torch.float64, grad_fn=<SqueezeBackward0>)\n"
     ]
    },
    {
     "name": "stderr",
     "output_type": "stream",
     "text": [
      " 41%|████      | 41/100 [01:14<01:44,  1.77s/it]"
     ]
    },
    {
     "name": "stdout",
     "output_type": "stream",
     "text": [
      "x0  tensor([[0.4997, 0.3090]], grad_fn=<AddBackward0>) a tensor([[1.0666, 0.4887]], grad_fn=<AddBackward0>) loss tensor(-0.9796, dtype=torch.float64, grad_fn=<SqueezeBackward0>)\n"
     ]
    },
    {
     "name": "stderr",
     "output_type": "stream",
     "text": [
      " 43%|████▎     | 43/100 [01:17<01:39,  1.74s/it]"
     ]
    },
    {
     "name": "stdout",
     "output_type": "stream",
     "text": [
      "x0  tensor([[0.4995, 0.3083]], grad_fn=<AddBackward0>) a tensor([[1.0522, 0.4572]], grad_fn=<AddBackward0>) loss tensor(-1.0194, dtype=torch.float64, grad_fn=<SqueezeBackward0>)\n"
     ]
    },
    {
     "name": "stderr",
     "output_type": "stream",
     "text": [
      " 45%|████▌     | 45/100 [01:21<01:36,  1.75s/it]"
     ]
    },
    {
     "name": "stdout",
     "output_type": "stream",
     "text": [
      "x0  tensor([[0.4994, 0.3077]], grad_fn=<AddBackward0>) a tensor([[1.0382, 0.4309]], grad_fn=<AddBackward0>) loss tensor(-1.0314, dtype=torch.float64, grad_fn=<SqueezeBackward0>)\n"
     ]
    },
    {
     "name": "stderr",
     "output_type": "stream",
     "text": [
      " 47%|████▋     | 47/100 [01:25<01:33,  1.76s/it]"
     ]
    },
    {
     "name": "stdout",
     "output_type": "stream",
     "text": [
      "x0  tensor([[0.4992, 0.3074]], grad_fn=<AddBackward0>) a tensor([[1.0245, 0.4167]], grad_fn=<AddBackward0>) loss tensor(-1.0345, dtype=torch.float64, grad_fn=<SqueezeBackward0>)\n"
     ]
    },
    {
     "name": "stderr",
     "output_type": "stream",
     "text": [
      " 49%|████▉     | 49/100 [01:28<01:28,  1.74s/it]"
     ]
    },
    {
     "name": "stdout",
     "output_type": "stream",
     "text": [
      "x0  tensor([[0.4989, 0.3071]], grad_fn=<AddBackward0>) a tensor([[1.0108, 0.4166]], grad_fn=<AddBackward0>) loss tensor(-1.0486, dtype=torch.float64, grad_fn=<SqueezeBackward0>)\n"
     ]
    },
    {
     "name": "stderr",
     "output_type": "stream",
     "text": [
      " 51%|█████     | 51/100 [01:31<01:24,  1.72s/it]"
     ]
    },
    {
     "name": "stdout",
     "output_type": "stream",
     "text": [
      "x0  tensor([[0.4985, 0.3070]], grad_fn=<AddBackward0>) a tensor([[0.9964, 0.4275]], grad_fn=<AddBackward0>) loss tensor(-1.0773, dtype=torch.float64, grad_fn=<SqueezeBackward0>)\n"
     ]
    },
    {
     "name": "stderr",
     "output_type": "stream",
     "text": [
      " 53%|█████▎    | 53/100 [01:35<01:22,  1.75s/it]"
     ]
    },
    {
     "name": "stdout",
     "output_type": "stream",
     "text": [
      "x0  tensor([[0.4980, 0.3069]], grad_fn=<AddBackward0>) a tensor([[0.9805, 0.4448]], grad_fn=<AddBackward0>) loss tensor(-1.1157, dtype=torch.float64, grad_fn=<SqueezeBackward0>)\n"
     ]
    },
    {
     "name": "stderr",
     "output_type": "stream",
     "text": [
      " 55%|█████▌    | 55/100 [01:38<01:18,  1.74s/it]"
     ]
    },
    {
     "name": "stdout",
     "output_type": "stream",
     "text": [
      "x0  tensor([[0.4972, 0.3068]], grad_fn=<AddBackward0>) a tensor([[0.9623, 0.4653]], grad_fn=<AddBackward0>) loss tensor(-1.1581, dtype=torch.float64, grad_fn=<SqueezeBackward0>)\n"
     ]
    },
    {
     "name": "stderr",
     "output_type": "stream",
     "text": [
      " 57%|█████▋    | 57/100 [01:42<01:14,  1.73s/it]"
     ]
    },
    {
     "name": "stdout",
     "output_type": "stream",
     "text": [
      "x0  tensor([[0.4961, 0.3068]], grad_fn=<AddBackward0>) a tensor([[0.9413, 0.4866]], grad_fn=<AddBackward0>) loss tensor(-1.2002, dtype=torch.float64, grad_fn=<SqueezeBackward0>)\n"
     ]
    },
    {
     "name": "stderr",
     "output_type": "stream",
     "text": [
      " 59%|█████▉    | 59/100 [01:45<01:12,  1.78s/it]"
     ]
    },
    {
     "name": "stdout",
     "output_type": "stream",
     "text": [
      "x0  tensor([[0.4946, 0.3068]], grad_fn=<AddBackward0>) a tensor([[0.9187, 0.5072]], grad_fn=<AddBackward0>) loss tensor(-1.2395, dtype=torch.float64, grad_fn=<SqueezeBackward0>)\n"
     ]
    },
    {
     "name": "stderr",
     "output_type": "stream",
     "text": [
      " 61%|██████    | 61/100 [01:49<01:09,  1.78s/it]"
     ]
    },
    {
     "name": "stdout",
     "output_type": "stream",
     "text": [
      "x0  tensor([[0.4924, 0.3068]], grad_fn=<AddBackward0>) a tensor([[0.8989, 0.5263]], grad_fn=<AddBackward0>) loss tensor(-1.2763, dtype=torch.float64, grad_fn=<SqueezeBackward0>)\n"
     ]
    },
    {
     "name": "stderr",
     "output_type": "stream",
     "text": [
      " 63%|██████▎   | 63/100 [01:52<01:04,  1.75s/it]"
     ]
    },
    {
     "name": "stdout",
     "output_type": "stream",
     "text": [
      "x0  tensor([[0.4894, 0.3069]], grad_fn=<AddBackward0>) a tensor([[0.8856, 0.5434]], grad_fn=<AddBackward0>) loss tensor(-1.3132, dtype=torch.float64, grad_fn=<SqueezeBackward0>)\n"
     ]
    },
    {
     "name": "stderr",
     "output_type": "stream",
     "text": [
      " 65%|██████▌   | 65/100 [01:56<01:01,  1.77s/it]"
     ]
    },
    {
     "name": "stdout",
     "output_type": "stream",
     "text": [
      "x0  tensor([[0.4851, 0.3070]], grad_fn=<AddBackward0>) a tensor([[0.8763, 0.5582]], grad_fn=<AddBackward0>) loss tensor(-1.3492, dtype=torch.float64, grad_fn=<SqueezeBackward0>)\n"
     ]
    },
    {
     "name": "stderr",
     "output_type": "stream",
     "text": [
      " 67%|██████▋   | 67/100 [01:59<00:57,  1.75s/it]"
     ]
    },
    {
     "name": "stdout",
     "output_type": "stream",
     "text": [
      "x0  tensor([[0.4793, 0.3071]], grad_fn=<AddBackward0>) a tensor([[0.8667, 0.5705]], grad_fn=<AddBackward0>) loss tensor(-1.3822, dtype=torch.float64, grad_fn=<SqueezeBackward0>)\n"
     ]
    },
    {
     "name": "stderr",
     "output_type": "stream",
     "text": [
      " 69%|██████▉   | 69/100 [02:03<00:53,  1.71s/it]"
     ]
    },
    {
     "name": "stdout",
     "output_type": "stream",
     "text": [
      "x0  tensor([[0.4714, 0.3072]], grad_fn=<AddBackward0>) a tensor([[0.8543, 0.5807]], grad_fn=<AddBackward0>) loss tensor(-1.4111, dtype=torch.float64, grad_fn=<SqueezeBackward0>)\n"
     ]
    },
    {
     "name": "stderr",
     "output_type": "stream",
     "text": [
      " 71%|███████   | 71/100 [02:06<00:50,  1.73s/it]"
     ]
    },
    {
     "name": "stdout",
     "output_type": "stream",
     "text": [
      "x0  tensor([[0.4614, 0.3074]], grad_fn=<AddBackward0>) a tensor([[0.8409, 0.5891]], grad_fn=<AddBackward0>) loss tensor(-1.4333, dtype=torch.float64, grad_fn=<SqueezeBackward0>)\n"
     ]
    },
    {
     "name": "stderr",
     "output_type": "stream",
     "text": [
      " 73%|███████▎  | 73/100 [02:10<00:46,  1.72s/it]"
     ]
    },
    {
     "name": "stdout",
     "output_type": "stream",
     "text": [
      "x0  tensor([[0.4525, 0.3076]], grad_fn=<AddBackward0>) a tensor([[0.8364, 0.5963]], grad_fn=<AddBackward0>) loss tensor(-1.4508, dtype=torch.float64, grad_fn=<SqueezeBackward0>)\n"
     ]
    },
    {
     "name": "stderr",
     "output_type": "stream",
     "text": [
      " 75%|███████▌  | 75/100 [02:13<00:43,  1.73s/it]"
     ]
    },
    {
     "name": "stdout",
     "output_type": "stream",
     "text": [
      "x0  tensor([[0.4470, 0.3078]], grad_fn=<AddBackward0>) a tensor([[0.8415, 0.6023]], grad_fn=<AddBackward0>) loss tensor(-1.4651, dtype=torch.float64, grad_fn=<SqueezeBackward0>)\n"
     ]
    },
    {
     "name": "stderr",
     "output_type": "stream",
     "text": [
      " 77%|███████▋  | 77/100 [02:17<00:40,  1.74s/it]"
     ]
    },
    {
     "name": "stdout",
     "output_type": "stream",
     "text": [
      "x0  tensor([[0.4402, 0.3081]], grad_fn=<AddBackward0>) a tensor([[0.8428, 0.6074]], grad_fn=<AddBackward0>) loss tensor(-1.4741, dtype=torch.float64, grad_fn=<SqueezeBackward0>)\n"
     ]
    },
    {
     "name": "stderr",
     "output_type": "stream",
     "text": [
      " 79%|███████▉  | 79/100 [02:20<00:36,  1.71s/it]"
     ]
    },
    {
     "name": "stdout",
     "output_type": "stream",
     "text": [
      "x0  tensor([[0.4306, 0.3084]], grad_fn=<AddBackward0>) a tensor([[0.8366, 0.6118]], grad_fn=<AddBackward0>) loss tensor(-1.4812, dtype=torch.float64, grad_fn=<SqueezeBackward0>)\n"
     ]
    },
    {
     "name": "stderr",
     "output_type": "stream",
     "text": [
      " 81%|████████  | 81/100 [02:24<00:32,  1.69s/it]"
     ]
    },
    {
     "name": "stdout",
     "output_type": "stream",
     "text": [
      "x0  tensor([[0.4222, 0.3087]], grad_fn=<AddBackward0>) a tensor([[0.8318, 0.6157]], grad_fn=<AddBackward0>) loss tensor(-1.4856, dtype=torch.float64, grad_fn=<SqueezeBackward0>)\n"
     ]
    },
    {
     "name": "stderr",
     "output_type": "stream",
     "text": [
      " 83%|████████▎ | 83/100 [02:27<00:28,  1.68s/it]"
     ]
    },
    {
     "name": "stdout",
     "output_type": "stream",
     "text": [
      "x0  tensor([[0.4188, 0.3090]], grad_fn=<AddBackward0>) a tensor([[0.8351, 0.6192]], grad_fn=<AddBackward0>) loss tensor(-1.4898, dtype=torch.float64, grad_fn=<SqueezeBackward0>)\n"
     ]
    },
    {
     "name": "stderr",
     "output_type": "stream",
     "text": [
      " 85%|████████▌ | 85/100 [02:30<00:26,  1.74s/it]"
     ]
    },
    {
     "name": "stdout",
     "output_type": "stream",
     "text": [
      "x0  tensor([[0.4157, 0.3093]], grad_fn=<AddBackward0>) a tensor([[0.8377, 0.6225]], grad_fn=<AddBackward0>) loss tensor(-1.4924, dtype=torch.float64, grad_fn=<SqueezeBackward0>)\n"
     ]
    },
    {
     "name": "stderr",
     "output_type": "stream",
     "text": [
      " 87%|████████▋ | 87/100 [02:34<00:22,  1.74s/it]"
     ]
    },
    {
     "name": "stdout",
     "output_type": "stream",
     "text": [
      "x0  tensor([[0.4097, 0.3097]], grad_fn=<AddBackward0>) a tensor([[0.8341, 0.6254]], grad_fn=<AddBackward0>) loss tensor(-1.4950, dtype=torch.float64, grad_fn=<SqueezeBackward0>)\n"
     ]
    },
    {
     "name": "stderr",
     "output_type": "stream",
     "text": [
      " 89%|████████▉ | 89/100 [02:38<00:19,  1.78s/it]"
     ]
    },
    {
     "name": "stdout",
     "output_type": "stream",
     "text": [
      "x0  tensor([[0.4043, 0.3101]], grad_fn=<AddBackward0>) a tensor([[0.8305, 0.6282]], grad_fn=<AddBackward0>) loss tensor(-1.4968, dtype=torch.float64, grad_fn=<SqueezeBackward0>)\n"
     ]
    },
    {
     "name": "stderr",
     "output_type": "stream",
     "text": [
      " 91%|█████████ | 91/100 [02:41<00:15,  1.74s/it]"
     ]
    },
    {
     "name": "stdout",
     "output_type": "stream",
     "text": [
      "x0  tensor([[0.4024, 0.3105]], grad_fn=<AddBackward0>) a tensor([[0.8319, 0.6308]], grad_fn=<AddBackward0>) loss tensor(-1.4987, dtype=torch.float64, grad_fn=<SqueezeBackward0>)\n"
     ]
    },
    {
     "name": "stderr",
     "output_type": "stream",
     "text": [
      " 93%|█████████▎| 93/100 [02:44<00:12,  1.71s/it]"
     ]
    },
    {
     "name": "stdout",
     "output_type": "stream",
     "text": [
      "x0  tensor([[0.4013, 0.3109]], grad_fn=<AddBackward0>) a tensor([[0.8335, 0.6332]], grad_fn=<AddBackward0>) loss tensor(-1.5001, dtype=torch.float64, grad_fn=<SqueezeBackward0>)\n"
     ]
    },
    {
     "name": "stderr",
     "output_type": "stream",
     "text": [
      " 95%|█████████▌| 95/100 [02:48<00:08,  1.74s/it]"
     ]
    },
    {
     "name": "stdout",
     "output_type": "stream",
     "text": [
      "x0  tensor([[0.3983, 0.3113]], grad_fn=<AddBackward0>) a tensor([[0.8310, 0.6354]], grad_fn=<AddBackward0>) loss tensor(-1.5018, dtype=torch.float64, grad_fn=<SqueezeBackward0>)\n"
     ]
    },
    {
     "name": "stderr",
     "output_type": "stream",
     "text": [
      " 97%|█████████▋| 97/100 [02:51<00:05,  1.73s/it]"
     ]
    },
    {
     "name": "stdout",
     "output_type": "stream",
     "text": [
      "x0  tensor([[0.3955, 0.3118]], grad_fn=<AddBackward0>) a tensor([[0.8279, 0.6375]], grad_fn=<AddBackward0>) loss tensor(-1.5033, dtype=torch.float64, grad_fn=<SqueezeBackward0>)\n"
     ]
    },
    {
     "name": "stderr",
     "output_type": "stream",
     "text": [
      " 99%|█████████▉| 99/100 [02:55<00:01,  1.72s/it]"
     ]
    },
    {
     "name": "stdout",
     "output_type": "stream",
     "text": [
      "x0  tensor([[0.3952, 0.3122]], grad_fn=<AddBackward0>) a tensor([[0.8279, 0.6395]], grad_fn=<AddBackward0>) loss tensor(-1.5050, dtype=torch.float64, grad_fn=<SqueezeBackward0>)\n"
     ]
    },
    {
     "name": "stderr",
     "output_type": "stream",
     "text": [
      "100%|██████████| 100/100 [02:57<00:00,  1.77s/it]\n",
      "WARNING:matplotlib.legend:No handles with labels found to put in legend.\n"
     ]
    },
    {
     "data": {
      "text/plain": [
       "<Figure size 504x504 with 0 Axes>"
      ]
     },
     "metadata": {},
     "output_type": "display_data"
    },
    {
     "data": {
      "image/png": "[encoded data removed]",
      "text/plain": [
       "<Figure size 504x504 with 2 Axes>"
      ]
     },
     "metadata": {
      "needs_background": "light"
     },
     "output_type": "display_data"
    }
   ],
   "source": [
    "# @title Joint 10 Steps with sigmoid and adam and sampling and variational\n",
    "\n",
    "\n",
    "def compute_ehig(xi, horizon=5, num_samples=4):\n",
    "    with settings.propagate_grads(state=True):\n",
    "        for h in range(0, horizon + 1):\n",
    "            pvs_x = xi[h - 1] if h > 0 else prev_x\n",
    "            xi[h] = torch.sigmoid(xi[h]) * 0.2 + (pvs_x - 0.1)\n",
    "\n",
    "            # if torch.any(xi[h] > 1):\n",
    "            #     xi[h] = torch.clamp(xi[h], min=0, max=1)\n",
    "\n",
    "        ehigs = 0\n",
    "        sample_yi_on_xi_Di = {}\n",
    "        prev_ind = np.ones(horizon) * -1\n",
    "        p_f_on_Di = {}\n",
    "        p_f_on_Di[0] = model\n",
    "        sampler = SobolQMCNormalSampler(\n",
    "            num_samples=num_samples, resample=False, collapse_batch_dims=True, seed=0\n",
    "        )\n",
    "\n",
    "        p_y0_on_x0_D0 = model.posterior(xi[0])\n",
    "        sample_yi_on_xi_Di[0] = sampler(p_y0_on_x0_D0)\n",
    "\n",
    "        for ind in itertools.product(\n",
    "            range(4),\n",
    "            range(3),\n",
    "            range(2),\n",
    "        ):\n",
    "            # range(num_samples), repeat=horizon):\n",
    "\n",
    "            ind = ind + tuple([0] * (horizon - len(ind)))\n",
    "\n",
    "            equal_bool = np.equal(ind, prev_ind)\n",
    "\n",
    "            # finding the first false\n",
    "            comp_ind = np.argmin(equal_bool)\n",
    "\n",
    "            prev_ind = ind\n",
    "\n",
    "            for i in range(horizon):\n",
    "                if i >= comp_ind:\n",
    "                    p_f_on_Di[i + 1] = p_f_on_Di[i].condition_on_observations(\n",
    "                        xi[i], sample_yi_on_xi_Di[i][ind[i]]  # [ind[:i]],\n",
    "                    )\n",
    "                    sample_yi_on_xi_Di[i + 1] = sampler(\n",
    "                        p_f_on_Di[i + 1].posterior(xi[i + 1])\n",
    "                    )  # [ind[:i+1]]))\n",
    "\n",
    "            ehig = sample_yi_on_xi_Di[horizon].mean()\n",
    "            ehigs = ehigs + ehig\n",
    "\n",
    "        ehig = ehigs / (4 * 3 * 2)\n",
    "\n",
    "        return xi, ehig.squeeze()\n",
    "\n",
    "\n",
    "temp = []\n",
    "\n",
    "xi = []\n",
    "dim_xi = [1, n_dim]\n",
    "horizon = 7\n",
    "num_samples = 4\n",
    "for h in range(horizon + 1):\n",
    "    xi.append((torch.rand(dim_xi) * 10).requires_grad_(True))\n",
    "    # dim_xi.insert(0, num_samples)\n",
    "\n",
    "optimizer = optim.Adam(xi, lr=0.1)\n",
    "for epoch in tqdm(range(100)):\n",
    "    optimizer.zero_grad()\n",
    "\n",
    "    xi_in = [element_xi.clone() for element_xi in xi]\n",
    "    xi_out, ehig = compute_ehig(xi_in, horizon=horizon, num_samples=num_samples)\n",
    "\n",
    "    # for element in xi_out:\n",
    "    #     ehig = ehig + 10*p_loss(element).sum()\n",
    "\n",
    "    ehig.backward(retain_graph=True)\n",
    "    optimizer.step()\n",
    "    temp.append([xi_out[i].detach() for i in range(horizon + 1)] + [ehig.detach()])\n",
    "\n",
    "    if epoch % 2 == 0:\n",
    "        print(\n",
    "            \"x0 \",\n",
    "            xi_out[0],\n",
    "            \"a\",\n",
    "            xi_out[-1],  # [tuple([0]*horizon)].item(),\n",
    "            \"loss\",\n",
    "            ehig,\n",
    "        )\n",
    "\n",
    "tmp = []\n",
    "for i in range(len(temp)):\n",
    "    tmp.append([temp[i][0], temp[i][-2], temp[i][-1]])  # [tuple([0]*horizon)],\n",
    "\n",
    "tmp2 = []\n",
    "for i in range(len(temp)):\n",
    "    tmp2.append(\n",
    "        [\n",
    "            # temp[i][0],\n",
    "            # temp[i][-2],#[tuple([0]*horizon)],\n",
    "            temp[i][-1]\n",
    "        ]\n",
    "    )\n",
    "\n",
    "tmp2 = torch.tensor(tmp2)\n",
    "best = torch.argmin(tmp2, dim=0).item()\n",
    "\n",
    "best_x, best_a, best_hes = tmp[best]\n",
    "\n",
    "plt.figure(figsize=(7, 7))\n",
    "draw_posterior()\n",
    "\n",
    "plt.scatter(train_x[:, 0], train_x[:, 1], marker=\"*\", color=\"black\")\n",
    "plt.hlines(prev_x[0, 1] - 0.1, 0, 1, linestyle=\"--\")\n",
    "plt.hlines(prev_x[0, 1] + 0.1, 0, 1, linestyle=\"--\")\n",
    "\n",
    "plt.vlines(prev_x[0, 0] - 0.1, 0, 1, linestyle=\"--\")\n",
    "plt.vlines(prev_x[0, 0] + 0.1, 0, 1, linestyle=\"--\")\n",
    "\n",
    "plt.scatter(best_x[0, 0].detach().numpy(), best_x[0, 1].detach().numpy(), color=\"blue\")\n",
    "plt.scatter(\n",
    "    best_a[..., 0, 0].detach().numpy(), best_a[..., 0, 1].detach().numpy(), color=\"red\"\n",
    ")\n",
    "\n",
    "plt.legend()\n",
    "plt.show()"
   ]
  }
 ],
 "metadata": {
  "colab": {
   "authorship_tag": "ABX9TyNC9/VgtAIq3YS/TaPIzpjq",
   "collapsed_sections": [],
   "provenance": []
  },
  "kernelspec": {
   "display_name": "Python 3 (ipykernel)",
   "language": "python",
   "name": "python3"
  },
  "language_info": {
   "codemirror_mode": {
    "name": "ipython",
    "version": 3
   },
   "file_extension": ".py",
   "mimetype": "text/x-python",
   "name": "python",
   "nbconvert_exporter": "python",
   "pygments_lexer": "ipython3",
   "version": "3.8.10"
  }
 },
 "nbformat": 4,
 "nbformat_minor": 1
}
